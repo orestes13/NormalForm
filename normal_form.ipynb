{
 "cells": [
  {
   "cell_type": "code",
   "execution_count": 1,
   "metadata": {},
   "outputs": [],
   "source": [
    "import itertools\n",
    "\n",
    "import numpy as np\n",
    "import IPython.display as disp\n",
    "from sympy import simplify, collect, log, I, diff, eye, solve\n",
    "from symengine import expand, Symbol, conjugate, symbols, Matrix, linsolve, Add"
   ]
  },
  {
   "cell_type": "markdown",
   "metadata": {},
   "source": [
    "# Normal Form of the Generalised Swift-Hohenberg Equation\n",
    "In this notebook we calculate the coefficients of the normal form of the generalised Swift-Hohenberg equation"
   ]
  },
  {
   "cell_type": "code",
   "execution_count": 2,
   "metadata": {},
   "outputs": [],
   "source": [
    "# linear matrix\n",
    "L = Matrix([[0, 1, 0, 0, 0, 0, 0, 0],\n",
    "            [0, 0, 1, 0, 0, 0, 0, 0],\n",
    "            [0, 0, 0, 1, 0, 0, 0, 0],\n",
    "            [0, 0, 0, 0, 1, 0, 0, 0],\n",
    "            [0, 0, 0, 0, 0, 1, 0, 0],\n",
    "            [0, 0, 0, 0, 0, 0, 1, 0],\n",
    "            [0, 0, 0, 0, 0, 0, 0, 1],\n",
    "            [-1, 0, -4, 0, -6, 0, -4, 0]])"
   ]
  },
  {
   "cell_type": "code",
   "execution_count": 3,
   "metadata": {},
   "outputs": [
    {
     "data": {
      "text/plain": [
       "[0, 1, 0, 0, 0, 0, 0, 0]\n",
       "[0, 0, 1, 0, 0, 0, 0, 0]\n",
       "[0, 0, 0, 1, 0, 0, 0, 0]\n",
       "[0, 0, 0, 0, 1, 0, 0, 0]\n",
       "[0, 0, 0, 0, 0, 1, 0, 0]\n",
       "[0, 0, 0, 0, 0, 0, 1, 0]\n",
       "[0, 0, 0, 0, 0, 0, 0, 1]\n",
       "[-1, 0, -4, 0, -6, 0, -4, 0]"
      ]
     },
     "execution_count": 3,
     "metadata": {},
     "output_type": "execute_result"
    }
   ],
   "source": [
    "L"
   ]
  },
  {
   "cell_type": "code",
   "execution_count": 4,
   "metadata": {},
   "outputs": [],
   "source": [
    "# reversibility\n",
    "R = eye(8)\n",
    "for i in range(1, 5):\n",
    "    R[2 * i - 1, 2 * i - 1] = -1"
   ]
  },
  {
   "cell_type": "code",
   "execution_count": 5,
   "metadata": {},
   "outputs": [
    {
     "data": {
      "text/latex": [
       "$\\displaystyle \\left[\\begin{matrix}1 & 0 & 0 & 0 & 0 & 0 & 0 & 0\\\\0 & -1 & 0 & 0 & 0 & 0 & 0 & 0\\\\0 & 0 & 1 & 0 & 0 & 0 & 0 & 0\\\\0 & 0 & 0 & -1 & 0 & 0 & 0 & 0\\\\0 & 0 & 0 & 0 & 1 & 0 & 0 & 0\\\\0 & 0 & 0 & 0 & 0 & -1 & 0 & 0\\\\0 & 0 & 0 & 0 & 0 & 0 & 1 & 0\\\\0 & 0 & 0 & 0 & 0 & 0 & 0 & -1\\end{matrix}\\right]$"
      ],
      "text/plain": [
       "Matrix([\n",
       "[1,  0, 0,  0, 0,  0, 0,  0],\n",
       "[0, -1, 0,  0, 0,  0, 0,  0],\n",
       "[0,  0, 1,  0, 0,  0, 0,  0],\n",
       "[0,  0, 0, -1, 0,  0, 0,  0],\n",
       "[0,  0, 0,  0, 1,  0, 0,  0],\n",
       "[0,  0, 0,  0, 0, -1, 0,  0],\n",
       "[0,  0, 0,  0, 0,  0, 1,  0],\n",
       "[0,  0, 0,  0, 0,  0, 0, -1]])"
      ]
     },
     "execution_count": 5,
     "metadata": {},
     "output_type": "execute_result"
    }
   ],
   "source": [
    "R"
   ]
  },
  {
   "cell_type": "code",
   "execution_count": 6,
   "metadata": {},
   "outputs": [],
   "source": [
    "# main variables\n",
    "A = Symbol('A')\n",
    "B = Symbol('B')\n",
    "C = Symbol('C')\n",
    "D = Symbol('D')\n",
    "\n",
    "A_bar = Symbol('A_bar')  # conjugate(A)\n",
    "B_bar = Symbol('B_bar')  # conjugate(B)\n",
    "C_bar = Symbol('C_bar')  # conjugate(C)\n",
    "D_bar = Symbol('D_bar')  # conjugate(D)\n",
    "\n",
    "z_tilde = Matrix([A, B, C, D, A_bar, B_bar, C_bar, D_bar])\n",
    "\n",
    "relations = {conjugate(A): A_bar, conjugate(B): B_bar,\n",
    "             conjugate(C): C_bar, conjugate(D): D_bar,\n",
    "             conjugate(A_bar): A, conjugate(B_bar): B,\n",
    "             conjugate(C_bar): C, conjugate(D_bar): D}"
   ]
  },
  {
   "cell_type": "code",
   "execution_count": 7,
   "metadata": {},
   "outputs": [],
   "source": [
    "quadratic_terms = set(np.product(el) for el in itertools.product(z_tilde, z_tilde))\n",
    "cubic_terms = set(np.product(el) for el in itertools.product(z_tilde, z_tilde, z_tilde))"
   ]
  },
  {
   "cell_type": "code",
   "execution_count": 8,
   "metadata": {},
   "outputs": [],
   "source": [
    "# integrals\n",
    "c1 = A * A_bar\n",
    "c2 = I * B / A + log(A)\n",
    "c3 = I * (A * B_bar - A_bar * B)\n",
    "c4 = C / A - I * B * log(A) / A - (log(A))**2 / 2\n",
    "c5 = A * C_bar - B * B_bar + A_bar * C\n",
    "c6 = -I * D / A - C * log(A) / A + I * B * (log(A))**2 / (2 * A) + (log(A))**3 / 6\n",
    "c7 = I * (A * D_bar - B * C_bar + B_bar * C - A_bar * D)\n",
    "w1 = c2**2 + 2 * c4\n",
    "w2 = c2**3 + 3 * c2 * c4 + 3 * c6"
   ]
  },
  {
   "cell_type": "code",
   "execution_count": 9,
   "metadata": {},
   "outputs": [],
   "source": [
    "# vectors and matrices\n",
    "zeta_0 = Matrix([1, I, -1, -I, 1, I, -1, -I])\n",
    "zeta_1 = Matrix([0, 1, 2 * I, -3, -4 * I, 5, 6 * I, -7])\n",
    "zeta_2 = Matrix([0, 0, 1, 3 * I, -6, -10 * I, 15, 21 * I])\n",
    "zeta_3 = Matrix([0, 0, 0, 1, 4 * I, -10, -20 * I, 35])\n",
    "\n",
    "# conjugate doesn't work on symengine Matrix\n",
    "zeta_0_bar = Matrix([conjugate(el) for el in zeta_0])\n",
    "zeta_1_bar = Matrix([conjugate(el) for el in zeta_1])\n",
    "zeta_2_bar = Matrix([conjugate(el) for el in zeta_2])\n",
    "zeta_3_bar = Matrix([conjugate(el) for el in zeta_3])\n",
    "\n",
    "M = Matrix([[1, 0, 0, 0, 1, 0, 0, 0],\n",
    "            [I, 1, 0, 0, -I, 1, 0, 0],\n",
    "            [-1, 2 * I, 1, 0, -1,-2 * I, 1, 0],\n",
    "            [-I, -3, 3 * I, 1, I, -3, -3 * I, 1],\n",
    "            [1, -4 * I, -6, 4 * I, 1, 4 * I, -6, -4 * I],\n",
    "            [I, 5, -10 * I, -10, -I, 5, 10 * I, -10],\n",
    "            [-1, 6 * I, 15, -20 * I, -1, -6 * I, 15, 20 * I],\n",
    "            [-I, -7, 21 * I, 35, I, -7, -21 * I, 35]])\n",
    "\n",
    "M_inv = M.inv()\n",
    "\n",
    "L0 = M_inv * L * M"
   ]
  },
  {
   "cell_type": "code",
   "execution_count": 10,
   "metadata": {},
   "outputs": [],
   "source": [
    "# polynomial vector\n",
    "powers = [(0, 1, 2, 3) for _ in range(8)]\n",
    "poly_powers = [el for el in itertools.product(*powers) if sum(el) in (2, 3)]\n",
    "poly = 8 * [0]\n",
    "quadratic_coefficients = []\n",
    "cubic_coefficients = []\n",
    "for idx in poly_powers:\n",
    "    for j in range(8):\n",
    "        coeff = Symbol('psi_{}'.format(''.join([str(el) for el in (j,) + idx])))\n",
    "        poly[j] += coeff * np.product([x**i for x, i in zip(z_tilde, idx)])\n",
    "        if sum(idx) == 2:\n",
    "            quadratic_coefficients.append(coeff)\n",
    "        elif sum(idx) == 3:\n",
    "            cubic_coefficients.append(coeff)\n",
    "psi = Matrix(poly)"
   ]
  },
  {
   "cell_type": "markdown",
   "metadata": {},
   "source": [
    "## Reversibility\n",
    "Now we make use of the reversibility of the system to determine relations between some of the unknown coefficients"
   ]
  },
  {
   "cell_type": "code",
   "execution_count": 11,
   "metadata": {},
   "outputs": [],
   "source": [
    "# define a scaling to help collect together terms\n",
    "epsilon = Symbol('epsilon')\n",
    "scalings = {A: epsilon * A, B: epsilon * B, C: epsilon * C, D: epsilon * D,\n",
    "            A_bar: epsilon * A_bar, B_bar: epsilon * B_bar, C_bar: epsilon * C_bar, D_bar: epsilon * D_bar}"
   ]
  },
  {
   "cell_type": "code",
   "execution_count": 12,
   "metadata": {},
   "outputs": [],
   "source": [
    "psi_scaled = expand(psi.subs(scalings))"
   ]
  },
  {
   "cell_type": "code",
   "execution_count": 13,
   "metadata": {},
   "outputs": [],
   "source": [
    "reversibility = {A: A_bar, B: -B_bar, C: C_bar, D: -D_bar,\n",
    "                 A_bar: A, B_bar: -B, C_bar: C, D_bar: -D}\n",
    "psiR_scaled = expand(psi_scaled.subs(reversibility))"
   ]
  },
  {
   "cell_type": "code",
   "execution_count": 14,
   "metadata": {},
   "outputs": [],
   "source": [
    "psi_quadratic_relations = []\n",
    "psi_cubic_relations = []\n",
    "\n",
    "invariant_quadratic_terms = []\n",
    "invariant_cubic_terms = []\n",
    "\n",
    "for psi_l, psi_r in zip(psi_scaled, psiR_scaled):\n",
    "    tmp_coll = collect(psi_l - psi_r, [epsilon**2, epsilon**3], evaluate=False)\n",
    "    tmp_quad = collect(tmp_coll[epsilon._sympy_()**2], quadratic_terms, evaluate=False)\n",
    "    tmp_cubic = collect(tmp_coll[epsilon._sympy_()**3], cubic_terms, evaluate=False)\n",
    "    for term in quadratic_terms:\n",
    "        try:\n",
    "            psi_quadratic_relations.append(Add(tmp_quad[term._sympy_()]))\n",
    "        except KeyError:\n",
    "            invariant_quadratic_terms.append(term)\n",
    "    for term in cubic_terms:\n",
    "        try:\n",
    "            psi_cubic_relations.append(Add(tmp_cubic[term._sympy_()]))\n",
    "        except KeyError:\n",
    "            invariant_cubic_terms.append(term)"
   ]
  },
  {
   "cell_type": "code",
   "execution_count": 15,
   "metadata": {},
   "outputs": [],
   "source": [
    "quad_sol_rev = {}\n",
    "psi_quadratic_relations = list(set(psi_quadratic_relations))\n",
    "for eqn in psi_quadratic_relations:\n",
    "    if eqn == 0:\n",
    "        continue\n",
    "    tmp_var = list(eqn.free_symbols)[0]\n",
    "    tmp_sol = linsolve([eqn], [tmp_var])[0]\n",
    "    for i in range(len(psi_quadratic_relations)):\n",
    "        psi_quadratic_relations[i] = psi_quadratic_relations[i].subs({tmp_var: tmp_sol})\n",
    "    quad_sol_rev.update({tmp_var: tmp_sol})"
   ]
  },
  {
   "cell_type": "code",
   "execution_count": 16,
   "metadata": {},
   "outputs": [],
   "source": [
    "cubic_sol_rev = {}\n",
    "psi_cubic_relations = list(set(psi_cubic_relations))\n",
    "for eqn in psi_cubic_relations:\n",
    "    if eqn == 0:\n",
    "        continue\n",
    "    tmp_var = list(eqn.free_symbols)[0]\n",
    "    tmp_sol = linsolve([eqn], [tmp_var])[0]\n",
    "    for i in range(len(psi_cubic_relations)):\n",
    "        psi_cubic_relations[i] = psi_cubic_relations[i].subs({tmp_var: tmp_sol})\n",
    "    cubic_sol_rev.update({tmp_var: tmp_sol})"
   ]
  },
  {
   "cell_type": "code",
   "execution_count": 17,
   "metadata": {},
   "outputs": [],
   "source": [
    "#for i, p in enumerate(poly):\n",
    "#    poly[i] = expand(p.subs(quad_sol_rev))\n",
    "#for i, p in enumerate(poly):\n",
    "#    poly[i] = expand(p.subs(cubic_sol_rev))\n",
    "\n",
    "#psi = Matrix(poly)"
   ]
  },
  {
   "cell_type": "code",
   "execution_count": 18,
   "metadata": {},
   "outputs": [],
   "source": [
    "#quad_coeffs = [coeff for coeff in psi.free_symbols if coeff in quadratic_coefficients]\n",
    "#quadratic_coefficients = quad_coeffs"
   ]
  },
  {
   "cell_type": "code",
   "execution_count": 19,
   "metadata": {},
   "outputs": [],
   "source": [
    "#cubic_coeffs = [coeff for coeff in psi.free_symbols if coeff in cubic_coefficients]\n",
    "#cubic_coefficients = cubic_coeffs"
   ]
  },
  {
   "cell_type": "code",
   "execution_count": 20,
   "metadata": {},
   "outputs": [],
   "source": [
    "psi_A = Matrix([diff(p, A) for p in poly])\n",
    "psi_B = Matrix([diff(p, B) for p in poly])\n",
    "psi_C = Matrix([diff(p, C) for p in poly])\n",
    "psi_D = Matrix([diff(p, D) for p in poly])\n",
    "psi_A_bar = Matrix([diff(p, A_bar) for p in poly])\n",
    "psi_B_bar = Matrix([diff(p, B_bar) for p in poly])\n",
    "psi_C_bar = Matrix([diff(p, C_bar) for p in poly])\n",
    "psi_D_bar = Matrix([diff(p, D_bar) for p in poly])"
   ]
  },
  {
   "cell_type": "code",
   "execution_count": 21,
   "metadata": {},
   "outputs": [],
   "source": [
    "P1, P2, P3, P4 = symbols('P1 P2 P3 P4')\n",
    "Q1, Q2, Q3, Q4 = symbols('Q1 Q2 Q3 Q4')\n",
    "R1, R2, R3, R4 = symbols('R1 R2 R3 R4')\n",
    "S1, S2, S3, S4 = symbols('S1 S2 S3 S4')\n",
    "T1, T3, T7, T8, T9  = symbols('T1 T3 T7 T8 T9')\n",
    "T2, T4, T5, T6, T10  = symbols('T2 T4 T5 T6 T10')\n",
    "P1_bar, P2_bar, P3_bar, P4_bar = symbols('P1_bar P2_bar P3_bar P4_bar')\n",
    "Q1_bar, Q2_bar, Q3_bar, Q4_bar = symbols('Q1_bar Q2_bar Q3_bar Q4_bar')\n",
    "R1_bar, R2_bar, R3_bar, R4_bar = symbols('R1_bar R2_bar R3_bar R4_bar')\n",
    "S1_bar, S2_bar, S3_bar, S4_bar = symbols('S1_bar S2_bar S3_bar S4_bar')\n",
    "T1_bar, T3_bar, T7_bar, T8_bar, T9_bar  = symbols('T1_bar T3_bar T7_bar T8_bar T9_bar')\n",
    "T2_bar, T4_bar, T5_bar, T6_bar, T10_bar  = symbols('T2_bar T4_bar T5_bar T6_bar T10_bar')\n",
    "free_coefficients = Matrix([P1, P2, P3, P4,\n",
    "                            Q1, Q2, Q3, Q4,\n",
    "                            R1, R2, R3, R4,\n",
    "                            S1, S2, S3, S4,\n",
    "                            T1, T2, T3, T4,\n",
    "                            T5, T6, T7, T8,\n",
    "                            T9, T10,\n",
    "                            P1_bar, P2_bar, P3_bar, P4_bar,\n",
    "                            Q1_bar, Q2_bar, Q3_bar, Q4_bar,\n",
    "                            R1_bar, R2_bar, R3_bar, R4_bar,\n",
    "                            S1_bar, S2_bar, S3_bar, S4_bar,\n",
    "                            T1_bar, T2_bar, T3_bar, T4_bar,\n",
    "                            T5_bar, T6_bar, T7_bar, T8_bar,\n",
    "                            T9_bar, T10_bar])\n",
    "\n",
    "P = P1 * c1 + P2 * c3 + P3 * c5 + P4 * c7 + 3 * T1 * (c1 * w2 + c3 * w1) - I * T2 * c1 * w1\n",
    "P = simplify(expand(P))\n",
    "Q = Q1 * c1 + Q2 * c3 + Q3 * c5 + Q4 * c7 + T1 * (c3 * w2 - 4 * c5 * w1 + c1 * w1**2) - I * T2 * c3 * w1 - T3 * c1 * w1 - I * T4 * (c3 * w1 + c1 * w2)\n",
    "Q = simplify(expand(Q))\n",
    "R = R1 * c1 + R2 * c3 + R3 * c5 + R4 * c7 + T1 * (3 * c7 * w1 - c5 * w2 - 2 * c1 * w1 * w2 - 2 * c3 * w1**2) - I * T2 * (c5 * w1 - c1 * w1**2) - T3 * (c1 * w2 - c3 * w1) / 2 + I * T4 * (2 * c3 * w2 - 3 * c5 * w1 + 2 * c1 * w1**2) + I * T5 * c1 * w1 + I * T6 * (c3 * w2 - c5 * w1 + c1 * w1**2) - T7 * (c1 * w2 + c3 * w1) / 2\n",
    "R = simplify(expand(R))\n",
    "S = S1 * c1 + S2 * c3 + S3 * c5 + S4 * c7 + T1 * (2 * c1 * w2**2 - 3 * c7 * w2 + 2 * c3 * w1 * w2 + c5 * w1**2) - I * T2 * (c7 * w1 - c3 * w1**2) - T3 * (c3 * w2 - c1 * w1**2) / 2 + I * T4 * (4 * c1 * w1 * w2 + 4 * c3 * w1**2 - 3 * c5 * w2 - 6 * c7 * w1) - I * T5 * c1 * w2 + I * T6 * (2 * c1 * w1 * w2 + 2 * c3 * w1**2 - 2 * c5 * w2 - 3 * c7 * w1) + T7 * (c3 * w2 + c1 * w1**2) / 2 - T8 * c1 * w1 + T9 * (c3 * w2 - c5 * w1 + c1 * w1**2) + I * T10 * (c3 * w1 + c1 * w2)\n",
    "S = simplify(expand(S))\n",
    "\n",
    "P_bar = simplify(expand(conjugate(P).subs(relations)))\n",
    "Q_bar = simplify(expand(conjugate(Q).subs(relations)))\n",
    "R_bar = simplify(expand(conjugate(R).subs(relations)))\n",
    "S_bar = simplify(expand(conjugate(S).subs(relations)))"
   ]
  },
  {
   "cell_type": "code",
   "execution_count": 22,
   "metadata": {},
   "outputs": [],
   "source": [
    "assumptions = {conjugate(P1): P1_bar, conjugate(P2): P2_bar, conjugate(P3): P3_bar, conjugate(P4): P4_bar,\n",
    "               conjugate(Q1): Q1_bar, conjugate(Q2): Q2_bar, conjugate(Q3): Q3_bar, conjugate(Q4): Q4_bar,\n",
    "               conjugate(R1): R1_bar, conjugate(R2): R2_bar, conjugate(R3): R3_bar, conjugate(R4): R4_bar,\n",
    "               conjugate(S1): S1_bar, conjugate(S2): S2_bar, conjugate(S3): S3_bar, conjugate(S4): S4_bar,\n",
    "               conjugate(T1): T1_bar, conjugate(T2): T2_bar, conjugate(T3): T3_bar, conjugate(T4): T4_bar,\n",
    "               conjugate(T5): T5_bar, conjugate(T6): T6_bar, conjugate(T7): T7_bar, conjugate(T8): T8_bar,\n",
    "               conjugate(T9): T9_bar, conjugate(T10): T10_bar,\n",
    "               conjugate(P1_bar): P1, conjugate(P2_bar): P2, conjugate(P3_bar): P3, conjugate(P4_bar): P4,\n",
    "               conjugate(Q1_bar): Q1, conjugate(Q2_bar): Q2, conjugate(Q3_bar): Q3, conjugate(Q4_bar): Q4,\n",
    "               conjugate(R1_bar): R1, conjugate(R2_bar): R2, conjugate(R3_bar): R3, conjugate(R4_bar): R4,\n",
    "               conjugate(S1_bar): S1, conjugate(S2_bar): S2, conjugate(S3_bar): S3, conjugate(S4_bar): S4,\n",
    "               conjugate(T1_bar): T1, conjugate(T2_bar): T2, conjugate(T3_bar): T3, conjugate(T4_bar): T4,\n",
    "               conjugate(T5_bar): T5, conjugate(T6_bar): T6, conjugate(T7_bar): T7, conjugate(T8_bar): T8,\n",
    "               conjugate(T9_bar): T9, conjugate(T10_bar): T10}"
   ]
  },
  {
   "cell_type": "code",
   "execution_count": 23,
   "metadata": {},
   "outputs": [],
   "source": [
    "P = P.subs(assumptions)\n",
    "Q = Q.subs(assumptions)\n",
    "R = R.subs(assumptions)\n",
    "S = S.subs(assumptions)\n",
    "P_bar = P_bar.subs(assumptions)\n",
    "Q_bar = Q_bar.subs(assumptions)\n",
    "R_bar = R_bar.subs(assumptions)\n",
    "S_bar = S_bar.subs(assumptions)"
   ]
  },
  {
   "cell_type": "code",
   "execution_count": 24,
   "metadata": {},
   "outputs": [
    {
     "data": {
      "text/latex": [
       "$\\displaystyle \\frac{A \\left(A A_{bar} P_{1} + i A B_{bar} P_{2} + A C_{bar} P_{3} + i A D_{bar} P_{4} - i A_{bar} B P_{2} + A_{bar} C P_{3} - 2 i A_{bar} C T_{2} - i A_{bar} D P_{4} - 9 i A_{bar} D T_{1} - B B_{bar} P_{3} - i B C_{bar} P_{4} + i B_{bar} C P_{4} + 6 i B_{bar} C T_{1}\\right) + i A_{bar} B^{2} T_{2} + 3 i A_{bar} B C T_{1} - 3 i B^{2} B_{bar} T_{1}}{A}$"
      ],
      "text/plain": [
       "(A*(A*A_bar*P1 + I*A*B_bar*P2 + A*C_bar*P3 + I*A*D_bar*P4 - I*A_bar*B*P2 + A_bar*C*P3 - 2*I*A_bar*C*T2 - I*A_bar*D*P4 - 9*I*A_bar*D*T1 - B*B_bar*P3 - I*B*C_bar*P4 + I*B_bar*C*P4 + 6*I*B_bar*C*T1) + I*A_bar*B**2*T2 + 3*I*A_bar*B*C*T1 - 3*I*B**2*B_bar*T1)/A"
      ]
     },
     "execution_count": 24,
     "metadata": {},
     "output_type": "execute_result"
    }
   ],
   "source": [
    "simplify(P)"
   ]
  },
  {
   "cell_type": "code",
   "execution_count": 25,
   "metadata": {},
   "outputs": [],
   "source": [
    "A_x = I * A + B + I * A * P\n",
    "A_x = simplify(expand(A_x))\n",
    "B_x = I * B + C + I * B * P + A * Q\n",
    "B_x = simplify(expand(B_x))\n",
    "C_x = I * C + D + I * C * P + B * Q + I * A * R\n",
    "C_x = simplify(expand(C_x))\n",
    "D_x = I * D + I * D * P + C * Q + I * B * R + A * S\n",
    "D_x = simplify(expand(D_x))\n",
    "\n",
    "A_bar_x = simplify(conjugate(A_x)).subs(relations).subs(assumptions)\n",
    "B_bar_x = simplify(conjugate(B_x)).subs(relations).subs(assumptions)\n",
    "C_bar_x = simplify(conjugate(C_x)).subs(relations).subs(assumptions)\n",
    "D_bar_x = simplify(conjugate(D_x)).subs(relations).subs(assumptions)"
   ]
  },
  {
   "cell_type": "code",
   "execution_count": 26,
   "metadata": {},
   "outputs": [
    {
     "data": {
      "text/latex": [
       "$\\displaystyle i A^{2} A_{bar} P_{1} - A^{2} B_{bar} P_{2} + i A^{2} C_{bar} P_{3} - A^{2} D_{bar} P_{4} + A A_{bar} B P_{2} + i A A_{bar} C P_{3} + 2 A A_{bar} C T_{2} + A A_{bar} D P_{4} + 9 A A_{bar} D T_{1} - i A B B_{bar} P_{3} + A B C_{bar} P_{4} - A B_{bar} C P_{4} - 6 A B_{bar} C T_{1} + i A - A_{bar} B^{2} T_{2} - 3 A_{bar} B C T_{1} + 3 B^{2} B_{bar} T_{1} + B$"
      ],
      "text/plain": [
       "I*A**2*A_bar*P1 - A**2*B_bar*P2 + I*A**2*C_bar*P3 - A**2*D_bar*P4 + A*A_bar*B*P2 + I*A*A_bar*C*P3 + 2*A*A_bar*C*T2 + A*A_bar*D*P4 + 9*A*A_bar*D*T1 - I*A*B*B_bar*P3 + A*B*C_bar*P4 - A*B_bar*C*P4 - 6*A*B_bar*C*T1 + I*A - A_bar*B**2*T2 - 3*A_bar*B*C*T1 + 3*B**2*B_bar*T1 + B"
      ]
     },
     "execution_count": 26,
     "metadata": {},
     "output_type": "execute_result"
    }
   ],
   "source": [
    "A_x"
   ]
  },
  {
   "cell_type": "code",
   "execution_count": 27,
   "metadata": {},
   "outputs": [
    {
     "data": {
      "text/latex": [
       "$\\displaystyle - i A A_{bar}^{2} P_{1 bar} + A A_{bar} B_{bar} P_{2 bar} - i A A_{bar} C_{bar} P_{3 bar} + 2 A A_{bar} C_{bar} T_{2 bar} + A A_{bar} D_{bar} P_{4 bar} + 9 A A_{bar} D_{bar} T_{1 bar} - A B_{bar}^{2} T_{2 bar} - 3 A B_{bar} C_{bar} T_{1 bar} - A_{bar}^{2} B P_{2 bar} - i A_{bar}^{2} C P_{3 bar} - A_{bar}^{2} D P_{4 bar} + i A_{bar} B B_{bar} P_{3 bar} - A_{bar} B C_{bar} P_{4 bar} - 6 A_{bar} B C_{bar} T_{1 bar} + A_{bar} B_{bar} C P_{4 bar} - i A_{bar} + 3 B B_{bar}^{2} T_{1 bar} + B_{bar}$"
      ],
      "text/plain": [
       "-I*A*A_bar**2*P1_bar + A*A_bar*B_bar*P2_bar - I*A*A_bar*C_bar*P3_bar + 2*A*A_bar*C_bar*T2_bar + A*A_bar*D_bar*P4_bar + 9*A*A_bar*D_bar*T1_bar - A*B_bar**2*T2_bar - 3*A*B_bar*C_bar*T1_bar - A_bar**2*B*P2_bar - I*A_bar**2*C*P3_bar - A_bar**2*D*P4_bar + I*A_bar*B*B_bar*P3_bar - A_bar*B*C_bar*P4_bar - 6*A_bar*B*C_bar*T1_bar + A_bar*B_bar*C*P4_bar - I*A_bar + 3*B*B_bar**2*T1_bar + B_bar"
      ]
     },
     "execution_count": 27,
     "metadata": {},
     "output_type": "execute_result"
    }
   ],
   "source": [
    "A_bar_x"
   ]
  },
  {
   "cell_type": "code",
   "execution_count": 28,
   "metadata": {},
   "outputs": [],
   "source": [
    "# construct LHS of equation\n",
    "LHS = (zeta_0 + psi_A) * A_x + (zeta_1 + psi_B) * B_x + (zeta_2 + psi_C) * C_x + (zeta_3 + psi_D) * D_x\n",
    "LHS += (zeta_0_bar + psi_A_bar) * A_bar_x + (zeta_1_bar + psi_B_bar) * B_bar_x + (zeta_2_bar + psi_C_bar) * C_bar_x + (zeta_3_bar + psi_D_bar) * D_bar_x\n",
    "\n",
    "LHS = expand(LHS).subs(scalings)\n",
    "\n",
    "# truncate\n",
    "#LHS = LHS + O(epsilon**4)"
   ]
  },
  {
   "cell_type": "code",
   "execution_count": 29,
   "metadata": {},
   "outputs": [],
   "source": [
    "# construct RHS of equation\n",
    "z = z_tilde + psi\n",
    "Mz = M * z\n",
    "Mz = Mz.subs(scalings)\n",
    "\n",
    "# linear part\n",
    "RHS = L * z\n",
    "RHS = expand(RHS).subs(scalings)\n",
    "\n",
    "# nonlinear part\n",
    "n2, n3 = symbols('n2 n3', real=True)\n",
    "eps_terms = collect(Mz[0], [epsilon, epsilon**2], evaluate=False)\n",
    "Mz = epsilon * eps_terms[epsilon._sympy_()] + epsilon**2 * eps_terms[epsilon._sympy_()**2]\n",
    "\n",
    "# quadratic\n",
    "n2_terms = n2 * Mz**2\n",
    "n2_terms = collect(expand(n2_terms), [epsilon, epsilon**2], evaluate=False)\n",
    "n2_terms = epsilon**2 * n2_terms[epsilon._sympy_()**2] + epsilon**3 * n2_terms[epsilon._sympy_()**3]\n",
    "\n",
    "# cubic\n",
    "n3_terms = n3 * Mz**3\n",
    "n3_terms = collect(expand(n3_terms), [epsilon, epsilon**2], evaluate=False)\n",
    "n3_terms = epsilon**3 * n3_terms[epsilon._sympy_()**3]\n",
    "\n",
    "N = Matrix([0, 0, 0, 0, 0, 0, 0, n2_terms + n3_terms])\n",
    "RHS += N"
   ]
  },
  {
   "cell_type": "markdown",
   "metadata": {},
   "source": [
    "## Quadratic terms"
   ]
  },
  {
   "cell_type": "code",
   "execution_count": 30,
   "metadata": {},
   "outputs": [],
   "source": [
    "# quadratic solution\n",
    "out_l = [el.coeff(epsilon, 2) for el in LHS]\n",
    "out_r = [el.coeff(epsilon, 2) for el in RHS]\n",
    "quadratic_equations = []\n",
    "for l, r in zip(out_l, out_r):\n",
    "    tmp = collect(expand(l - r), quadratic_terms, evaluate=False)\n",
    "    for term in quadratic_terms:\n",
    "        quadratic_equations.append(Add(tmp[term._sympy_()]))  # incompatibility between sympy and symengine symbols"
   ]
  },
  {
   "cell_type": "code",
   "execution_count": 31,
   "metadata": {},
   "outputs": [
    {
     "data": {
      "text/plain": [
       "psi_010000010 - psi_110000001"
      ]
     },
     "execution_count": 31,
     "metadata": {},
     "output_type": "execute_result"
    }
   ],
   "source": [
    "quadratic_equations[1]"
   ]
  },
  {
   "cell_type": "code",
   "execution_count": 32,
   "metadata": {},
   "outputs": [],
   "source": [
    "# create the matrices\n",
    "Q = []\n",
    "Qr = []\n",
    "for eq in quadratic_equations:\n",
    "    rhs_term = 0\n",
    "    Q.append([eq.coeff(coeff) for coeff in quadratic_coefficients])\n",
    "    for coeff in eq.free_symbols.difference(set(quadratic_coefficients)):\n",
    "        rhs_term += -coeff * eq.coeff(coeff) \n",
    "    Qr.append(rhs_term)\n",
    "Q = Matrix(Q)\n",
    "Qr = Matrix(Qr)"
   ]
  },
  {
   "cell_type": "code",
   "execution_count": 33,
   "metadata": {},
   "outputs": [],
   "source": [
    "sol = Q.LUsolve(Qr)"
   ]
  },
  {
   "cell_type": "code",
   "execution_count": 34,
   "metadata": {},
   "outputs": [
    {
     "name": "stdout",
     "output_type": "stream",
     "text": [
      "{psi_000000002: (-352720/6561)*n2, psi_100000002: 1463840/19683*I*n2, psi_200000002: (1992920/19683)*n2, psi_300000002: -889840/6561*I*n2, psi_400000002: (-3518320/19683)*n2, psi_500000002: 4564000/19683*I*n2, psi_600000002: (647900/2187)*n2, psi_700000002: -7344200/19683*I*n2, psi_000000011: -652480/19683*I*n2, psi_100000011: (-934760/19683)*n2, psi_200000011: 1316320/19683*I*n2, psi_300000011: (1820720/19683)*n2, psi_400000011: -2472640/19683*I*n2, psi_500000011: (-3296900/19683)*n2, psi_600000011: 4318000/19683*I*n2, psi_700000011: (5560400/19683)*n2, psi_000000020: (12340/2187)*n2, psi_100000020: -18440/2187*I*n2, psi_200000020: (-27064/2187)*n2, psi_300000020: 38960/2187*I*n2, psi_400000020: (54946/2187)*n2, psi_500000020: -75860/2187*I*n2, psi_600000020: (-102520/2187)*n2, psi_700000020: 135728/2187*I*n2, psi_000000101: (49360/6561)*n2, psi_100000101: -73760/6561*I*n2, psi_200000101: (-108256/6561)*n2, psi_300000101: 155840/6561*I*n2, psi_400000101: (219784/6561)*n2, psi_500000101: -303440/6561*I*n2, psi_600000101: (-410080/6561)*n2, psi_700000101: 542912/6561*I*n2, psi_000000110: 2080/729*I*n2, psi_100000110: (3272/729)*n2, psi_200000110: -5056/729*I*n2, psi_300000110: (-7658/729)*n2, psi_400000110: 11344/729*I*n2, psi_500000110: (16400/729)*n2, psi_600000110: -23104/729*I*n2, psi_700000110: (-31712/729)*n2, psi_000000200: (-296/729)*n2, psi_100000200: 496/729*I*n2, psi_200000200: (818/729)*n2, psi_300000200: -1324/729*I*n2, psi_400000200: (-2096/729)*n2, psi_500000200: 3232/729*I*n2, psi_600000200: (4832/729)*n2, psi_700000200: -6976/729*I*n2, psi_000001001: 2080/2187*I*n2, psi_100001001: (3272/2187)*n2, psi_200001001: -5056/2187*I*n2, psi_300001001: (-7658/2187)*n2, psi_400001001: 11344/2187*I*n2, psi_500001001: (16400/2187)*n2, psi_600001001: -23104/2187*I*n2, psi_700001001: (-31712/2187)*n2, psi_000001010: (-296/729)*n2, psi_100001010: 496/729*I*n2, psi_200001010: (818/729)*n2, psi_300001010: -1324/729*I*n2, psi_400001010: (-2096/729)*n2, psi_500001010: 3232/729*I*n2, psi_600001010: (4832/729)*n2, psi_700001010: -6976/729*I*n2, psi_000001100: -32/243*I*n2, psi_100001100: (-58/243)*n2, psi_200001100: 104/243*I*n2, psi_300001100: (184/243)*n2, psi_400001100: -320/243*I*n2, psi_500001100: (-544/243)*n2, psi_600001100: 896/243*I*n2, psi_700001100: (1408/243)*n2, psi_000002000: (1/81)*n2, psi_100002000: -2/81*I*n2, psi_200002000: (-4/81)*n2, psi_300002000: 8/81*I*n2, psi_400002000: (16/81)*n2, psi_500002000: -32/81*I*n2, psi_600002000: (-64/81)*n2, psi_700002000: 128/81*I*n2, psi_000010001: -800*n2, psi_100010001: 0, psi_200010001: 400*n2, psi_300010001: 0, psi_400010001: -160*n2, psi_500010001: 0, psi_600010001: 40*n2, psi_700010001: 0, psi_000010010: 0, psi_100010010: 200*n2, psi_200010010: 0, psi_300010010: -80*n2, psi_400010010: 0, psi_500010010: 20*n2, psi_600010010: 0, psi_700010010: 0, psi_000010100: 80*n2, psi_100010100: 0, psi_200010100: -32*n2, psi_300010100: 0, psi_400010100: 8*n2, psi_500010100: 0, psi_600010100: 0, psi_700010100: 0, psi_000011000: 0, psi_100011000: -8*n2, psi_200011000: 0, psi_300011000: 2*n2, psi_400011000: 0, psi_500011000: 0, psi_600011000: 0, psi_700011000: 0, psi_000020000: (-352720/6561)*n2, psi_100020000: -1463840/19683*I*n2, psi_200020000: (1992920/19683)*n2, psi_300020000: 889840/6561*I*n2, psi_400020000: (-3518320/19683)*n2, psi_500020000: -4564000/19683*I*n2, psi_600020000: (647900/2187)*n2, psi_700020000: 7344200/19683*I*n2, psi_000100001: 0, psi_100100001: 200*n2, psi_200100001: 0, psi_300100001: -80*n2, psi_400100001: 0, psi_500100001: 20*n2, psi_600100001: 0, psi_700100001: 0, psi_000100010: 120*n2, psi_100100010: 0, psi_200100010: -48*n2, psi_300100010: 0, psi_400100010: 12*n2, psi_500100010: 0, psi_600100010: 0, psi_700100010: 0, psi_000100100: 0, psi_100100100: -24*n2, psi_200100100: 0, psi_300100100: 6*n2, psi_400100100: 0, psi_500100100: 0, psi_600100100: 0, psi_700100100: 0, psi_000101000: -8*n2, psi_100101000: 0, psi_200101000: 2*n2, psi_300101000: 0, psi_400101000: 0, psi_500101000: 0, psi_600101000: 0, psi_700101000: 0, psi_000110000: 652480/19683*I*n2, psi_100110000: (-934760/19683)*n2, psi_200110000: -1316320/19683*I*n2, psi_300110000: (1820720/19683)*n2, psi_400110000: 2472640/19683*I*n2, psi_500110000: (-3296900/19683)*n2, psi_600110000: -4318000/19683*I*n2, psi_700110000: (5560400/19683)*n2, psi_000200000: (12340/2187)*n2, psi_100200000: 18440/2187*I*n2, psi_200200000: (-27064/2187)*n2, psi_300200000: -38960/2187*I*n2, psi_400200000: (54946/2187)*n2, psi_500200000: 75860/2187*I*n2, psi_600200000: (-102520/2187)*n2, psi_700200000: -135728/2187*I*n2, psi_001000001: 80*n2, psi_101000001: 0, psi_201000001: -32*n2, psi_301000001: 0, psi_401000001: 8*n2, psi_501000001: 0, psi_601000001: 0, psi_701000001: 0, psi_001000010: 0, psi_101000010: -24*n2, psi_201000010: 0, psi_301000010: 6*n2, psi_401000010: 0, psi_501000010: 0, psi_601000010: 0, psi_701000010: 0, psi_001000100: -16*n2, psi_101000100: 0, psi_201000100: 4*n2, psi_301000100: 0, psi_401000100: 0, psi_501000100: 0, psi_601000100: 0, psi_701000100: 0, psi_001001000: 0, psi_101001000: 2*n2, psi_201001000: 0, psi_301001000: 0, psi_401001000: 0, psi_501001000: 0, psi_601001000: 0, psi_701001000: 0, psi_001010000: (49360/6561)*n2, psi_101010000: 73760/6561*I*n2, psi_201010000: (-108256/6561)*n2, psi_301010000: -155840/6561*I*n2, psi_401010000: (219784/6561)*n2, psi_501010000: 303440/6561*I*n2, psi_601010000: (-410080/6561)*n2, psi_701010000: -542912/6561*I*n2, psi_001100000: -2080/729*I*n2, psi_101100000: (3272/729)*n2, psi_201100000: 5056/729*I*n2, psi_301100000: (-7658/729)*n2, psi_401100000: -11344/729*I*n2, psi_501100000: (16400/729)*n2, psi_601100000: 23104/729*I*n2, psi_701100000: (-31712/729)*n2, psi_002000000: (-296/729)*n2, psi_102000000: -496/729*I*n2, psi_202000000: (818/729)*n2, psi_302000000: 1324/729*I*n2, psi_402000000: (-2096/729)*n2, psi_502000000: -3232/729*I*n2, psi_602000000: (4832/729)*n2, psi_702000000: 6976/729*I*n2, psi_010000001: 0, psi_110000001: -8*n2, psi_210000001: 0, psi_310000001: 2*n2, psi_410000001: 0, psi_510000001: 0, psi_610000001: 0, psi_710000001: 0, psi_010000010: -8*n2, psi_110000010: 0, psi_210000010: 2*n2, psi_310000010: 0, psi_410000010: 0, psi_510000010: 0, psi_610000010: 0, psi_710000010: 0, psi_010000100: 0, psi_110000100: 2*n2, psi_210000100: 0, psi_310000100: 0, psi_410000100: 0, psi_510000100: 0, psi_610000100: 0, psi_710000100: 0, psi_010001000: 2*n2, psi_110001000: 0, psi_210001000: 0, psi_310001000: 0, psi_410001000: 0, psi_510001000: 0, psi_610001000: 0, psi_710001000: 0, psi_010010000: -2080/2187*I*n2, psi_110010000: (3272/2187)*n2, psi_210010000: 5056/2187*I*n2, psi_310010000: (-7658/2187)*n2, psi_410010000: -11344/2187*I*n2, psi_510010000: (16400/2187)*n2, psi_610010000: 23104/2187*I*n2, psi_710010000: (-31712/2187)*n2, psi_010100000: (-296/729)*n2, psi_110100000: -496/729*I*n2, psi_210100000: (818/729)*n2, psi_310100000: 1324/729*I*n2, psi_410100000: (-2096/729)*n2, psi_510100000: -3232/729*I*n2, psi_610100000: (4832/729)*n2, psi_710100000: 6976/729*I*n2, psi_011000000: 32/243*I*n2, psi_111000000: (-58/243)*n2, psi_211000000: -104/243*I*n2, psi_311000000: (184/243)*n2, psi_411000000: 320/243*I*n2, psi_511000000: (-544/243)*n2, psi_611000000: -896/243*I*n2, psi_711000000: (1408/243)*n2, psi_020000000: (1/81)*n2, psi_120000000: 2/81*I*n2, psi_220000000: (-4/81)*n2, psi_320000000: -8/81*I*n2, psi_420000000: (16/81)*n2, psi_520000000: 32/81*I*n2, psi_620000000: (-64/81)*n2, psi_720000000: -128/81*I*n2}\n"
     ]
    }
   ],
   "source": [
    "quadratic_subs = {key: val for key, val in zip(quadratic_coefficients, sol)}\n",
    "print(quadratic_subs)"
   ]
  },
  {
   "cell_type": "code",
   "execution_count": 35,
   "metadata": {},
   "outputs": [
    {
     "name": "stdout",
     "output_type": "stream",
     "text": [
      "psi_000000002 psi_000020000 (-352720/6561)*n2 (-352720/6561)*n2\n"
     ]
    }
   ],
   "source": [
    "key = list(quadratic_subs.keys())[0]\n",
    "print(key, quad_sol_rev[key], quadratic_subs[key], quadratic_subs[quad_sol_rev[key]])"
   ]
  },
  {
   "cell_type": "markdown",
   "metadata": {},
   "source": [
    "## Cubic terms\n",
    "\n",
    "The matrix represenbting the LHS of the system of equations at cubic order is rank-deficient, so we can not use one of the solve procedures. Instead we calculate the null space of the LHS and multiply by the RHS to recover a system of equations involving the coefficients {P1, P2, Q1, Q2} (and their conjugates)."
   ]
  },
  {
   "cell_type": "code",
   "execution_count": 36,
   "metadata": {},
   "outputs": [],
   "source": [
    "# cubic solution\n",
    "out_l = [el.coeff(epsilon, 3) for el in LHS]\n",
    "out_r = [el.coeff(epsilon, 3) for el in RHS]\n",
    "cubic_equations = []\n",
    "for l, r in zip(out_l, out_r):\n",
    "    tmp = collect(expand(l - r).subs(quadratic_subs), cubic_terms, evaluate=False)\n",
    "    for term in cubic_terms:\n",
    "        cubic_equations.append(Add(tmp[term._sympy_()]))  # incompatibility betwen sympy and symengine symbols"
   ]
  },
  {
   "cell_type": "code",
   "execution_count": 37,
   "metadata": {},
   "outputs": [
    {
     "data": {
      "text/plain": [
       "I*psi_000020001 + psi_000020010 + psi_000110001 - psi_100020001"
      ]
     },
     "execution_count": 37,
     "metadata": {},
     "output_type": "execute_result"
    }
   ],
   "source": [
    "cubic_equations[0]"
   ]
  },
  {
   "cell_type": "code",
   "execution_count": 38,
   "metadata": {},
   "outputs": [],
   "source": [
    "# create the matrices\n",
    "C3 = []\n",
    "C3r = []\n",
    "for eq in cubic_equations:\n",
    "    rhs_term = 0\n",
    "    C3.append([eq.coeff(coeff) for coeff in cubic_coefficients])\n",
    "    n_coeffs = eq.free_symbols.difference(set(cubic_coefficients))\n",
    "    coll = {k: v for k, v in collect(eq, n_coeffs, evaluate=False).items() if k != 1}\n",
    "    if len(coll) > 0:\n",
    "        for k, v in coll.items():\n",
    "            rhs_term += -k * v\n",
    "    C3r.append(rhs_term)\n",
    "C3 = Matrix(C3)\n",
    "C3r = Matrix(C3r)"
   ]
  },
  {
   "cell_type": "code",
   "execution_count": 39,
   "metadata": {},
   "outputs": [
    {
     "data": {
      "text/plain": [
       "21*I*P4 - 35*I*Q4 + 84*I*T1 + 70*T4 + 70*T6"
      ]
     },
     "execution_count": 39,
     "metadata": {},
     "output_type": "execute_result"
    }
   ],
   "source": [
    "C3r[959]"
   ]
  },
  {
   "cell_type": "code",
   "execution_count": 40,
   "metadata": {},
   "outputs": [],
   "source": [
    "QQ = C3._sympy_()\n",
    "QQr = C3r._sympy_()"
   ]
  },
  {
   "cell_type": "code",
   "execution_count": 41,
   "metadata": {},
   "outputs": [],
   "source": [
    "QT = QQ.T"
   ]
  },
  {
   "cell_type": "code",
   "execution_count": null,
   "metadata": {},
   "outputs": [],
   "source": [
    "kern = QT.nullspace()"
   ]
  },
  {
   "cell_type": "code",
   "execution_count": null,
   "metadata": {},
   "outputs": [],
   "source": [
    "M_kern = Matrix([list(k) for k in kern])"
   ]
  },
  {
   "cell_type": "code",
   "execution_count": null,
   "metadata": {},
   "outputs": [],
   "source": [
    "system = simplify(M_kern * C3r)"
   ]
  },
  {
   "cell_type": "code",
   "execution_count": null,
   "metadata": {},
   "outputs": [],
   "source": [
    "sol = solve(system, free_coefficients)"
   ]
  },
  {
   "cell_type": "code",
   "execution_count": null,
   "metadata": {},
   "outputs": [],
   "source": [
    "for k, v in sol.items():\n",
    "    disp.display(k, v)"
   ]
  }
 ],
 "metadata": {
  "kernelspec": {
   "display_name": "Python 3",
   "language": "python",
   "name": "python3"
  },
  "language_info": {
   "codemirror_mode": {
    "name": "ipython",
    "version": 3
   },
   "file_extension": ".py",
   "mimetype": "text/x-python",
   "name": "python",
   "nbconvert_exporter": "python",
   "pygments_lexer": "ipython3",
   "version": "3.6.10"
  }
 },
 "nbformat": 4,
 "nbformat_minor": 4
}
