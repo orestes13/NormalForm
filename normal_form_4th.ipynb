{
 "cells": [
  {
   "cell_type": "code",
   "execution_count": 1,
   "metadata": {},
   "outputs": [],
   "source": [
    "import itertools\n",
    "\n",
    "import numpy as np\n",
    "import IPython.display as disp\n",
    "from sympy import simplify, collect, log, I, diff, eye, solve\n",
    "from sympy.solvers.solveset import linear_eq_to_matrix\n",
    "from symengine import expand, Symbol, conjugate, symbols, Matrix, linsolve, Add"
   ]
  },
  {
   "cell_type": "markdown",
   "metadata": {},
   "source": [
    "# Normal Form of the Swift-Hohenberg Equation\n",
    "In this notebook we determine the coefficients of the normal form of the Swift-Hohenberg equation."
   ]
  },
  {
   "cell_type": "code",
   "execution_count": 2,
   "metadata": {},
   "outputs": [],
   "source": [
    "# linear matrix\n",
    "L = Matrix([[0, 1, 0, 0],\n",
    "            [0, 0, 1, 0],\n",
    "            [0, 0, 0, 1],\n",
    "            [-1, 0, -2, 0]])"
   ]
  },
  {
   "cell_type": "code",
   "execution_count": 3,
   "metadata": {},
   "outputs": [
    {
     "data": {
      "text/plain": [
       "[0, 1, 0, 0]\n",
       "[0, 0, 1, 0]\n",
       "[0, 0, 0, 1]\n",
       "[-1, 0, -2, 0]"
      ]
     },
     "execution_count": 3,
     "metadata": {},
     "output_type": "execute_result"
    }
   ],
   "source": [
    "L"
   ]
  },
  {
   "cell_type": "code",
   "execution_count": 4,
   "metadata": {},
   "outputs": [],
   "source": [
    "# reversibility\n",
    "R = eye(4)\n",
    "for i in range(1, 3):\n",
    "    R[2 * i - 1, 2 * i - 1] = -1"
   ]
  },
  {
   "cell_type": "code",
   "execution_count": 5,
   "metadata": {},
   "outputs": [
    {
     "data": {
      "text/latex": [
       "$\\displaystyle \\left[\\begin{matrix}1 & 0 & 0 & 0\\\\0 & -1 & 0 & 0\\\\0 & 0 & 1 & 0\\\\0 & 0 & 0 & -1\\end{matrix}\\right]$"
      ],
      "text/plain": [
       "Matrix([\n",
       "[1,  0, 0,  0],\n",
       "[0, -1, 0,  0],\n",
       "[0,  0, 1,  0],\n",
       "[0,  0, 0, -1]])"
      ]
     },
     "execution_count": 5,
     "metadata": {},
     "output_type": "execute_result"
    }
   ],
   "source": [
    "R"
   ]
  },
  {
   "cell_type": "code",
   "execution_count": 6,
   "metadata": {},
   "outputs": [],
   "source": [
    "# main variables\n",
    "A = Symbol('A')\n",
    "B = Symbol('B')\n",
    "\n",
    "A_bar = Symbol('A_bar')  # conjugate(A)\n",
    "B_bar = Symbol('B_bar')  # conjugate(B)\n",
    "\n",
    "z_tilde = Matrix([A, B, A_bar, B_bar])\n",
    "\n",
    "relations = {conjugate(A): A_bar, conjugate(B): B_bar,\n",
    "             conjugate(A_bar): A, conjugate(B_bar): B}"
   ]
  },
  {
   "cell_type": "code",
   "execution_count": 7,
   "metadata": {},
   "outputs": [],
   "source": [
    "quadratic_terms = set(np.product(el) for el in itertools.product(z_tilde, z_tilde))\n",
    "cubic_terms = set(np.product(el) for el in itertools.product(z_tilde, z_tilde, z_tilde))"
   ]
  },
  {
   "cell_type": "code",
   "execution_count": 8,
   "metadata": {},
   "outputs": [],
   "source": [
    "# integrals\n",
    "c1 = A * A_bar\n",
    "c2 = I * B / A + log(A)\n",
    "c3 = I * (A * B_bar - A_bar * B) / 2"
   ]
  },
  {
   "cell_type": "code",
   "execution_count": 9,
   "metadata": {},
   "outputs": [],
   "source": [
    "# vectors and matrices\n",
    "zeta_0 = Matrix([1, I, -1, -I])\n",
    "zeta_1 = Matrix([0, 1, 2 * I, -3])\n",
    "\n",
    "# conjugate doesn't work on symengine Matrix\n",
    "zeta_0_bar = Matrix([conjugate(el) for el in zeta_0])\n",
    "zeta_1_bar = Matrix([conjugate(el) for el in zeta_1])\n",
    "\n",
    "M = Matrix([[1, 0, 1, 0],\n",
    "            [I, 1, -I, 1],\n",
    "            [-1, 2 * I, -1,-2 * I],\n",
    "            [-I, -3, I, -3]])\n",
    "\n",
    "M_inv = M.inv()\n",
    "\n",
    "L0 = M_inv * L * M"
   ]
  },
  {
   "cell_type": "code",
   "execution_count": 10,
   "metadata": {},
   "outputs": [],
   "source": [
    "# polynomial vector\n",
    "powers = [(0, 1, 2, 3) for _ in range(4)]\n",
    "poly_powers = [el for el in itertools.product(*powers) if sum(el) in (2, 3)]\n",
    "poly = 4 * [0]\n",
    "quadratic_coefficients = []\n",
    "cubic_coefficients = []\n",
    "for idx in poly_powers:\n",
    "    for j in range(4):\n",
    "        coeff = Symbol('psi_{}'.format(''.join([str(el) for el in (j,) + idx])))\n",
    "        poly[j] += coeff * np.product([x**i for x, i in zip(z_tilde, idx)])\n",
    "        if sum(idx) == 2:\n",
    "            quadratic_coefficients.append(coeff)\n",
    "        elif sum(idx) == 3:\n",
    "            cubic_coefficients.append(coeff)\n",
    "psi = Matrix(poly)"
   ]
  },
  {
   "cell_type": "markdown",
   "metadata": {},
   "source": [
    "## Reversibility\n",
    "Now we make use of the reversibility of the system to determine relations between some of the unknown coefficients"
   ]
  },
  {
   "cell_type": "code",
   "execution_count": 11,
   "metadata": {},
   "outputs": [],
   "source": [
    "# define a scaling to help collect together terms\n",
    "epsilon = Symbol('epsilon')\n",
    "scalings = {A: epsilon * A, B: epsilon * B,\n",
    "            A_bar: epsilon * A_bar, B_bar: epsilon * B_bar}"
   ]
  },
  {
   "cell_type": "code",
   "execution_count": 12,
   "metadata": {},
   "outputs": [],
   "source": [
    "psi_scaled = expand(psi.subs(scalings))"
   ]
  },
  {
   "cell_type": "code",
   "execution_count": 13,
   "metadata": {},
   "outputs": [],
   "source": [
    "reversibility = {A: A_bar, B: -B_bar,\n",
    "                 A_bar: A, B_bar: -B}\n",
    "psiR_scaled = expand(psi_scaled.subs(reversibility))"
   ]
  },
  {
   "cell_type": "code",
   "execution_count": 14,
   "metadata": {},
   "outputs": [],
   "source": [
    "psi_quadratic_relations = []\n",
    "psi_cubic_relations = []\n",
    "\n",
    "invariant_quadratic_terms = []\n",
    "invariant_cubic_terms = []\n",
    "\n",
    "for psi_l, psi_r in zip(psi_scaled, psiR_scaled):\n",
    "    tmp_coll = collect(psi_l - psi_r, [epsilon**2, epsilon**3], evaluate=False)\n",
    "    tmp_quad = collect(tmp_coll[epsilon._sympy_()**2], quadratic_terms, evaluate=False)\n",
    "    tmp_cubic = collect(tmp_coll[epsilon._sympy_()**3], cubic_terms, evaluate=False)\n",
    "    for term in quadratic_terms:\n",
    "        try:\n",
    "            psi_quadratic_relations.append(Add(tmp_quad[term._sympy_()]))\n",
    "        except KeyError:\n",
    "            invariant_quadratic_terms.append(term)\n",
    "    for term in cubic_terms:\n",
    "        try:\n",
    "            psi_cubic_relations.append(Add(tmp_cubic[term._sympy_()]))\n",
    "        except KeyError:\n",
    "            invariant_cubic_terms.append(term)"
   ]
  },
  {
   "cell_type": "code",
   "execution_count": 15,
   "metadata": {},
   "outputs": [],
   "source": [
    "quad_sol_rev = {}\n",
    "psi_quadratic_relations = list(set(psi_quadratic_relations))\n",
    "for eqn in psi_quadratic_relations:\n",
    "    if eqn == 0:\n",
    "        continue\n",
    "    tmp_var = list(eqn.free_symbols)[0]\n",
    "    tmp_sol = linsolve([eqn], [tmp_var])[0]\n",
    "    for i in range(len(psi_quadratic_relations)):\n",
    "        psi_quadratic_relations[i] = psi_quadratic_relations[i].subs({tmp_var: tmp_sol})\n",
    "    quad_sol_rev.update({tmp_var: tmp_sol})"
   ]
  },
  {
   "cell_type": "code",
   "execution_count": 16,
   "metadata": {},
   "outputs": [],
   "source": [
    "cubic_sol_rev = {}\n",
    "psi_cubic_relations = list(set(psi_cubic_relations))\n",
    "for eqn in psi_cubic_relations:\n",
    "    if eqn == 0:\n",
    "        continue\n",
    "    tmp_var = list(eqn.free_symbols)[0]\n",
    "    tmp_sol = linsolve([eqn], [tmp_var])[0]\n",
    "    for i in range(len(psi_cubic_relations)):\n",
    "        psi_cubic_relations[i] = psi_cubic_relations[i].subs({tmp_var: tmp_sol})\n",
    "    cubic_sol_rev.update({tmp_var: tmp_sol})"
   ]
  },
  {
   "cell_type": "code",
   "execution_count": 17,
   "metadata": {},
   "outputs": [],
   "source": [
    "#for i, p in enumerate(poly):\n",
    "#    poly[i] = expand(p.subs(quad_sol_rev))\n",
    "#for i, p in enumerate(poly):\n",
    "#    poly[i] = expand(p.subs(cubic_sol_rev))\n",
    "\n",
    "#psi = Matrix(poly)"
   ]
  },
  {
   "cell_type": "code",
   "execution_count": 18,
   "metadata": {},
   "outputs": [],
   "source": [
    "#quad_coeffs = [coeff for coeff in psi.free_symbols if coeff in quadratic_coefficients]\n",
    "#quadratic_coefficients = quad_coeffs"
   ]
  },
  {
   "cell_type": "code",
   "execution_count": 19,
   "metadata": {},
   "outputs": [],
   "source": [
    "#cubic_coeffs = [coeff for coeff in psi.free_symbols if coeff in cubic_coefficients]\n",
    "#cubic_coefficients = cubic_coeffs"
   ]
  },
  {
   "cell_type": "code",
   "execution_count": 20,
   "metadata": {},
   "outputs": [],
   "source": [
    "psi_A = Matrix([diff(p, A) for p in poly])\n",
    "psi_B = Matrix([diff(p, B) for p in poly])\n",
    "psi_A_bar = Matrix([diff(p, A_bar) for p in poly])\n",
    "psi_B_bar = Matrix([diff(p, B_bar) for p in poly])"
   ]
  },
  {
   "cell_type": "code",
   "execution_count": 21,
   "metadata": {},
   "outputs": [],
   "source": [
    "# derivatives w.r.t. x\n",
    "P1, P2, P1_bar, P2_bar = symbols('P1 P2 P1_bar P2_bar')\n",
    "Q1, Q2, Q3, Q1_bar, Q2_bar, Q3_bar = symbols('Q1 Q2 Q3 Q1_bar Q2_bar Q3_bar')\n",
    "\n",
    "P = P1 * c1 + P2 * c3\n",
    "P = simplify(expand(P))\n",
    "Q = Q1 * c1 + Q2 * c3 + Q3 * c1**2\n",
    "Q = simplify(expand(Q))\n",
    "\n",
    "P_bar = simplify(expand(conjugate(P).subs(relations)))\n",
    "Q_bar = simplify(expand(conjugate(Q).subs(relations)))"
   ]
  },
  {
   "cell_type": "code",
   "execution_count": 22,
   "metadata": {},
   "outputs": [],
   "source": [
    "# symengine doesn't support assumptions, so manually enforce the real/imagainary assumptions\n",
    "assumptions = {conjugate(P1): P1_bar, conjugate(P2): P2_bar,\n",
    "               conjugate(P1_bar): P1, conjugate(P2_bar): P2,\n",
    "               conjugate(Q1): Q1_bar, conjugate(Q2): Q2_bar,\n",
    "               conjugate(Q1_bar): Q1, conjugate(Q2_bar): Q2,\n",
    "               conjugate(Q3): Q3_bar, conjugate(Q3_bar): Q3}"
   ]
  },
  {
   "cell_type": "code",
   "execution_count": 23,
   "metadata": {},
   "outputs": [],
   "source": [
    "P = P.subs(assumptions)\n",
    "Q = Q.subs(assumptions)\n",
    "P_bar = P_bar.subs(assumptions)\n",
    "Q_bar = Q_bar.subs(assumptions)"
   ]
  },
  {
   "cell_type": "code",
   "execution_count": 24,
   "metadata": {},
   "outputs": [
    {
     "data": {
      "text/latex": [
       "$\\displaystyle P_{1 bar} \\overline{A} \\overline{A_{bar}} - \\frac{i P_{2 bar} \\overline{A} \\overline{B_{bar}}}{2} + \\frac{i P_{2 bar} \\overline{A_{bar}} \\overline{B}}{2}$"
      ],
      "text/plain": [
       "P1_bar*conjugate(A)*conjugate(A_bar) - I*P2_bar*conjugate(A)*conjugate(B_bar)/2 + I*P2_bar*conjugate(A_bar)*conjugate(B)/2"
      ]
     },
     "execution_count": 24,
     "metadata": {},
     "output_type": "execute_result"
    }
   ],
   "source": [
    "simplify(P_bar)"
   ]
  },
  {
   "cell_type": "code",
   "execution_count": 25,
   "metadata": {},
   "outputs": [],
   "source": [
    "A_x = I * A + B + I * A * P\n",
    "A_x = simplify(expand(A_x))\n",
    "B_x = I * B + I * B * P + A * Q\n",
    "B_x = simplify(expand(B_x))\n",
    "\n",
    "A_bar_x = simplify(conjugate(A_x)).subs(relations).subs(assumptions)\n",
    "B_bar_x = simplify(conjugate(B_x)).subs(relations).subs(assumptions)"
   ]
  },
  {
   "cell_type": "code",
   "execution_count": 26,
   "metadata": {},
   "outputs": [
    {
     "data": {
      "text/latex": [
       "$\\displaystyle i A^{2} A_{bar} P_{1} - \\frac{A^{2} B_{bar} P_{2}}{2} + \\frac{A A_{bar} B P_{2}}{2} + i A + B$"
      ],
      "text/plain": [
       "I*A**2*A_bar*P1 - A**2*B_bar*P2/2 + A*A_bar*B*P2/2 + I*A + B"
      ]
     },
     "execution_count": 26,
     "metadata": {},
     "output_type": "execute_result"
    }
   ],
   "source": [
    "A_x"
   ]
  },
  {
   "cell_type": "code",
   "execution_count": 27,
   "metadata": {},
   "outputs": [
    {
     "data": {
      "text/latex": [
       "$\\displaystyle - i A A_{bar}^{2} P_{1 bar} + \\frac{A A_{bar} B_{bar} P_{2 bar}}{2} - \\frac{A_{bar}^{2} B P_{2 bar}}{2} - i A_{bar} + B_{bar}$"
      ],
      "text/plain": [
       "-I*A*A_bar**2*P1_bar + A*A_bar*B_bar*P2_bar/2 - A_bar**2*B*P2_bar/2 - I*A_bar + B_bar"
      ]
     },
     "execution_count": 27,
     "metadata": {},
     "output_type": "execute_result"
    }
   ],
   "source": [
    "A_bar_x"
   ]
  },
  {
   "cell_type": "markdown",
   "metadata": {},
   "source": [
    "# Construct the Equations\n",
    "\n",
    "We now construct the equations which determine the values of the unknown coefficients."
   ]
  },
  {
   "cell_type": "code",
   "execution_count": 28,
   "metadata": {},
   "outputs": [],
   "source": [
    "# construct LHS of equation\n",
    "LHS = (zeta_0 + psi_A) * A_x + (zeta_1 + psi_B) * B_x\n",
    "LHS += (zeta_0_bar + psi_A_bar) * A_bar_x + (zeta_1_bar + psi_B_bar) * B_bar_x\n",
    "\n",
    "LHS = expand(LHS).subs(scalings)"
   ]
  },
  {
   "cell_type": "code",
   "execution_count": 29,
   "metadata": {},
   "outputs": [],
   "source": [
    "# construct RHS of equation\n",
    "z = z_tilde + psi\n",
    "Mz = M * z\n",
    "Mz = Mz.subs(scalings)\n",
    "\n",
    "# linear part\n",
    "RHS = L * z\n",
    "RHS = expand(RHS).subs(scalings)\n",
    "\n",
    "# nonlinear part\n",
    "n2, n3 = symbols('n2 n3', real=True)\n",
    "eps_terms = collect(Mz[0], [epsilon, epsilon**2], evaluate=False)\n",
    "Mz = epsilon * eps_terms[epsilon._sympy_()] + epsilon**2 * eps_terms[epsilon._sympy_()**2]\n",
    "\n",
    "# quadratic\n",
    "n2_terms = n2 * Mz**2\n",
    "n2_terms = collect(expand(n2_terms), [epsilon, epsilon**2], evaluate=False)\n",
    "n2_terms = epsilon**2 * n2_terms[epsilon._sympy_()**2] + epsilon**3 * n2_terms[epsilon._sympy_()**3]\n",
    "\n",
    "# cubic\n",
    "n3_terms = n3 * Mz**3\n",
    "n3_terms = collect(expand(n3_terms), [epsilon, epsilon**2], evaluate=False)\n",
    "n3_terms = epsilon**3 * n3_terms[epsilon._sympy_()**3]\n",
    "\n",
    "N = Matrix([0, 0, 0, n2_terms + n3_terms])\n",
    "RHS += N"
   ]
  },
  {
   "cell_type": "markdown",
   "metadata": {},
   "source": [
    "## Quadratic terms"
   ]
  },
  {
   "cell_type": "code",
   "execution_count": 30,
   "metadata": {},
   "outputs": [],
   "source": [
    "# quadratic solution\n",
    "out_l = [el.coeff(epsilon, 2) for el in LHS]\n",
    "out_r = [el.coeff(epsilon, 2) for el in RHS]\n",
    "quadratic_equations = []\n",
    "for l, r in zip(out_l, out_r):\n",
    "    tmp = collect(expand(l - r), quadratic_terms, evaluate=False)\n",
    "    for term in quadratic_terms:\n",
    "        quadratic_equations.append(Add(tmp[term._sympy_()]))  # incompatibility between sympy and symengine symbols"
   ]
  },
  {
   "cell_type": "code",
   "execution_count": 31,
   "metadata": {},
   "outputs": [
    {
     "data": {
      "text/plain": [
       "40"
      ]
     },
     "execution_count": 31,
     "metadata": {},
     "output_type": "execute_result"
    }
   ],
   "source": [
    "len(quadratic_equations)"
   ]
  },
  {
   "cell_type": "code",
   "execution_count": 32,
   "metadata": {},
   "outputs": [],
   "source": [
    "# create the matrices\n",
    "C2, C2r = linear_eq_to_matrix(quadratic_equations, [s._sympy_() for s in quadratic_coefficients])"
   ]
  },
  {
   "cell_type": "code",
   "execution_count": 33,
   "metadata": {},
   "outputs": [],
   "source": [
    "sol = C2.LUsolve(C2r)"
   ]
  },
  {
   "cell_type": "code",
   "execution_count": 34,
   "metadata": {},
   "outputs": [
    {
     "data": {
      "text/plain": [
       "psi_00002"
      ]
     },
     "metadata": {},
     "output_type": "display_data"
    },
    {
     "data": {
      "text/latex": [
       "$\\displaystyle - \\frac{28 n_{2}}{27}$"
      ],
      "text/plain": [
       "-28*n2/27"
      ]
     },
     "metadata": {},
     "output_type": "display_data"
    },
    {
     "data": {
      "text/plain": [
       "psi_10002"
      ]
     },
     "metadata": {},
     "output_type": "display_data"
    },
    {
     "data": {
      "text/latex": [
       "$\\displaystyle \\frac{40 i n_{2}}{27}$"
      ],
      "text/plain": [
       "40*I*n2/27"
      ]
     },
     "metadata": {},
     "output_type": "display_data"
    },
    {
     "data": {
      "text/plain": [
       "psi_20002"
      ]
     },
     "metadata": {},
     "output_type": "display_data"
    },
    {
     "data": {
      "text/latex": [
       "$\\displaystyle 2 n_{2}$"
      ],
      "text/plain": [
       "2*n2"
      ]
     },
     "metadata": {},
     "output_type": "display_data"
    },
    {
     "data": {
      "text/plain": [
       "psi_30002"
      ]
     },
     "metadata": {},
     "output_type": "display_data"
    },
    {
     "data": {
      "text/latex": [
       "$\\displaystyle - \\frac{68 i n_{2}}{27}$"
      ],
      "text/plain": [
       "-68*I*n2/27"
      ]
     },
     "metadata": {},
     "output_type": "display_data"
    },
    {
     "data": {
      "text/plain": [
       "psi_00011"
      ]
     },
     "metadata": {},
     "output_type": "display_data"
    },
    {
     "data": {
      "text/latex": [
       "$\\displaystyle - \\frac{16 i n_{2}}{27}$"
      ],
      "text/plain": [
       "-16*I*n2/27"
      ]
     },
     "metadata": {},
     "output_type": "display_data"
    },
    {
     "data": {
      "text/plain": [
       "psi_10011"
      ]
     },
     "metadata": {},
     "output_type": "display_data"
    },
    {
     "data": {
      "text/latex": [
       "$\\displaystyle - \\frac{26 n_{2}}{27}$"
      ],
      "text/plain": [
       "-26*n2/27"
      ]
     },
     "metadata": {},
     "output_type": "display_data"
    },
    {
     "data": {
      "text/plain": [
       "psi_20011"
      ]
     },
     "metadata": {},
     "output_type": "display_data"
    },
    {
     "data": {
      "text/latex": [
       "$\\displaystyle \\frac{40 i n_{2}}{27}$"
      ],
      "text/plain": [
       "40*I*n2/27"
      ]
     },
     "metadata": {},
     "output_type": "display_data"
    },
    {
     "data": {
      "text/plain": [
       "psi_30011"
      ]
     },
     "metadata": {},
     "output_type": "display_data"
    },
    {
     "data": {
      "text/latex": [
       "$\\displaystyle \\frac{56 n_{2}}{27}$"
      ],
      "text/plain": [
       "56*n2/27"
      ]
     },
     "metadata": {},
     "output_type": "display_data"
    },
    {
     "data": {
      "text/plain": [
       "psi_00020"
      ]
     },
     "metadata": {},
     "output_type": "display_data"
    },
    {
     "data": {
      "text/latex": [
       "$\\displaystyle \\frac{n_{2}}{9}$"
      ],
      "text/plain": [
       "n2/9"
      ]
     },
     "metadata": {},
     "output_type": "display_data"
    },
    {
     "data": {
      "text/plain": [
       "psi_10020"
      ]
     },
     "metadata": {},
     "output_type": "display_data"
    },
    {
     "data": {
      "text/latex": [
       "$\\displaystyle - \\frac{2 i n_{2}}{9}$"
      ],
      "text/plain": [
       "-2*I*n2/9"
      ]
     },
     "metadata": {},
     "output_type": "display_data"
    },
    {
     "data": {
      "text/plain": [
       "psi_20020"
      ]
     },
     "metadata": {},
     "output_type": "display_data"
    },
    {
     "data": {
      "text/latex": [
       "$\\displaystyle - \\frac{4 n_{2}}{9}$"
      ],
      "text/plain": [
       "-4*n2/9"
      ]
     },
     "metadata": {},
     "output_type": "display_data"
    },
    {
     "data": {
      "text/plain": [
       "psi_30020"
      ]
     },
     "metadata": {},
     "output_type": "display_data"
    },
    {
     "data": {
      "text/latex": [
       "$\\displaystyle \\frac{8 i n_{2}}{9}$"
      ],
      "text/plain": [
       "8*I*n2/9"
      ]
     },
     "metadata": {},
     "output_type": "display_data"
    },
    {
     "data": {
      "text/plain": [
       "psi_00101"
      ]
     },
     "metadata": {},
     "output_type": "display_data"
    },
    {
     "data": {
      "text/latex": [
       "$\\displaystyle - 8 n_{2}$"
      ],
      "text/plain": [
       "-8*n2"
      ]
     },
     "metadata": {},
     "output_type": "display_data"
    },
    {
     "data": {
      "text/plain": [
       "psi_10101"
      ]
     },
     "metadata": {},
     "output_type": "display_data"
    },
    {
     "data": {
      "text/latex": [
       "$\\displaystyle 0$"
      ],
      "text/plain": [
       "0"
      ]
     },
     "metadata": {},
     "output_type": "display_data"
    },
    {
     "data": {
      "text/plain": [
       "psi_20101"
      ]
     },
     "metadata": {},
     "output_type": "display_data"
    },
    {
     "data": {
      "text/latex": [
       "$\\displaystyle 4 n_{2}$"
      ],
      "text/plain": [
       "4*n2"
      ]
     },
     "metadata": {},
     "output_type": "display_data"
    },
    {
     "data": {
      "text/plain": [
       "psi_30101"
      ]
     },
     "metadata": {},
     "output_type": "display_data"
    },
    {
     "data": {
      "text/latex": [
       "$\\displaystyle 0$"
      ],
      "text/plain": [
       "0"
      ]
     },
     "metadata": {},
     "output_type": "display_data"
    },
    {
     "data": {
      "text/plain": [
       "psi_00110"
      ]
     },
     "metadata": {},
     "output_type": "display_data"
    },
    {
     "data": {
      "text/latex": [
       "$\\displaystyle 0$"
      ],
      "text/plain": [
       "0"
      ]
     },
     "metadata": {},
     "output_type": "display_data"
    },
    {
     "data": {
      "text/plain": [
       "psi_10110"
      ]
     },
     "metadata": {},
     "output_type": "display_data"
    },
    {
     "data": {
      "text/latex": [
       "$\\displaystyle 2 n_{2}$"
      ],
      "text/plain": [
       "2*n2"
      ]
     },
     "metadata": {},
     "output_type": "display_data"
    },
    {
     "data": {
      "text/plain": [
       "psi_20110"
      ]
     },
     "metadata": {},
     "output_type": "display_data"
    },
    {
     "data": {
      "text/latex": [
       "$\\displaystyle 0$"
      ],
      "text/plain": [
       "0"
      ]
     },
     "metadata": {},
     "output_type": "display_data"
    },
    {
     "data": {
      "text/plain": [
       "psi_30110"
      ]
     },
     "metadata": {},
     "output_type": "display_data"
    },
    {
     "data": {
      "text/latex": [
       "$\\displaystyle 0$"
      ],
      "text/plain": [
       "0"
      ]
     },
     "metadata": {},
     "output_type": "display_data"
    },
    {
     "data": {
      "text/plain": [
       "psi_00200"
      ]
     },
     "metadata": {},
     "output_type": "display_data"
    },
    {
     "data": {
      "text/latex": [
       "$\\displaystyle - \\frac{28 n_{2}}{27}$"
      ],
      "text/plain": [
       "-28*n2/27"
      ]
     },
     "metadata": {},
     "output_type": "display_data"
    },
    {
     "data": {
      "text/plain": [
       "psi_10200"
      ]
     },
     "metadata": {},
     "output_type": "display_data"
    },
    {
     "data": {
      "text/latex": [
       "$\\displaystyle - \\frac{40 i n_{2}}{27}$"
      ],
      "text/plain": [
       "-40*I*n2/27"
      ]
     },
     "metadata": {},
     "output_type": "display_data"
    },
    {
     "data": {
      "text/plain": [
       "psi_20200"
      ]
     },
     "metadata": {},
     "output_type": "display_data"
    },
    {
     "data": {
      "text/latex": [
       "$\\displaystyle 2 n_{2}$"
      ],
      "text/plain": [
       "2*n2"
      ]
     },
     "metadata": {},
     "output_type": "display_data"
    },
    {
     "data": {
      "text/plain": [
       "psi_30200"
      ]
     },
     "metadata": {},
     "output_type": "display_data"
    },
    {
     "data": {
      "text/latex": [
       "$\\displaystyle \\frac{68 i n_{2}}{27}$"
      ],
      "text/plain": [
       "68*I*n2/27"
      ]
     },
     "metadata": {},
     "output_type": "display_data"
    },
    {
     "data": {
      "text/plain": [
       "psi_01001"
      ]
     },
     "metadata": {},
     "output_type": "display_data"
    },
    {
     "data": {
      "text/latex": [
       "$\\displaystyle 0$"
      ],
      "text/plain": [
       "0"
      ]
     },
     "metadata": {},
     "output_type": "display_data"
    },
    {
     "data": {
      "text/plain": [
       "psi_11001"
      ]
     },
     "metadata": {},
     "output_type": "display_data"
    },
    {
     "data": {
      "text/latex": [
       "$\\displaystyle 2 n_{2}$"
      ],
      "text/plain": [
       "2*n2"
      ]
     },
     "metadata": {},
     "output_type": "display_data"
    },
    {
     "data": {
      "text/plain": [
       "psi_21001"
      ]
     },
     "metadata": {},
     "output_type": "display_data"
    },
    {
     "data": {
      "text/latex": [
       "$\\displaystyle 0$"
      ],
      "text/plain": [
       "0"
      ]
     },
     "metadata": {},
     "output_type": "display_data"
    },
    {
     "data": {
      "text/plain": [
       "psi_31001"
      ]
     },
     "metadata": {},
     "output_type": "display_data"
    },
    {
     "data": {
      "text/latex": [
       "$\\displaystyle 0$"
      ],
      "text/plain": [
       "0"
      ]
     },
     "metadata": {},
     "output_type": "display_data"
    },
    {
     "data": {
      "text/plain": [
       "psi_01010"
      ]
     },
     "metadata": {},
     "output_type": "display_data"
    },
    {
     "data": {
      "text/latex": [
       "$\\displaystyle 2 n_{2}$"
      ],
      "text/plain": [
       "2*n2"
      ]
     },
     "metadata": {},
     "output_type": "display_data"
    },
    {
     "data": {
      "text/plain": [
       "psi_11010"
      ]
     },
     "metadata": {},
     "output_type": "display_data"
    },
    {
     "data": {
      "text/latex": [
       "$\\displaystyle 0$"
      ],
      "text/plain": [
       "0"
      ]
     },
     "metadata": {},
     "output_type": "display_data"
    },
    {
     "data": {
      "text/plain": [
       "psi_21010"
      ]
     },
     "metadata": {},
     "output_type": "display_data"
    },
    {
     "data": {
      "text/latex": [
       "$\\displaystyle 0$"
      ],
      "text/plain": [
       "0"
      ]
     },
     "metadata": {},
     "output_type": "display_data"
    },
    {
     "data": {
      "text/plain": [
       "psi_31010"
      ]
     },
     "metadata": {},
     "output_type": "display_data"
    },
    {
     "data": {
      "text/latex": [
       "$\\displaystyle 0$"
      ],
      "text/plain": [
       "0"
      ]
     },
     "metadata": {},
     "output_type": "display_data"
    },
    {
     "data": {
      "text/plain": [
       "psi_01100"
      ]
     },
     "metadata": {},
     "output_type": "display_data"
    },
    {
     "data": {
      "text/latex": [
       "$\\displaystyle \\frac{16 i n_{2}}{27}$"
      ],
      "text/plain": [
       "16*I*n2/27"
      ]
     },
     "metadata": {},
     "output_type": "display_data"
    },
    {
     "data": {
      "text/plain": [
       "psi_11100"
      ]
     },
     "metadata": {},
     "output_type": "display_data"
    },
    {
     "data": {
      "text/latex": [
       "$\\displaystyle - \\frac{26 n_{2}}{27}$"
      ],
      "text/plain": [
       "-26*n2/27"
      ]
     },
     "metadata": {},
     "output_type": "display_data"
    },
    {
     "data": {
      "text/plain": [
       "psi_21100"
      ]
     },
     "metadata": {},
     "output_type": "display_data"
    },
    {
     "data": {
      "text/latex": [
       "$\\displaystyle - \\frac{40 i n_{2}}{27}$"
      ],
      "text/plain": [
       "-40*I*n2/27"
      ]
     },
     "metadata": {},
     "output_type": "display_data"
    },
    {
     "data": {
      "text/plain": [
       "psi_31100"
      ]
     },
     "metadata": {},
     "output_type": "display_data"
    },
    {
     "data": {
      "text/latex": [
       "$\\displaystyle \\frac{56 n_{2}}{27}$"
      ],
      "text/plain": [
       "56*n2/27"
      ]
     },
     "metadata": {},
     "output_type": "display_data"
    },
    {
     "data": {
      "text/plain": [
       "psi_02000"
      ]
     },
     "metadata": {},
     "output_type": "display_data"
    },
    {
     "data": {
      "text/latex": [
       "$\\displaystyle \\frac{n_{2}}{9}$"
      ],
      "text/plain": [
       "n2/9"
      ]
     },
     "metadata": {},
     "output_type": "display_data"
    },
    {
     "data": {
      "text/plain": [
       "psi_12000"
      ]
     },
     "metadata": {},
     "output_type": "display_data"
    },
    {
     "data": {
      "text/latex": [
       "$\\displaystyle \\frac{2 i n_{2}}{9}$"
      ],
      "text/plain": [
       "2*I*n2/9"
      ]
     },
     "metadata": {},
     "output_type": "display_data"
    },
    {
     "data": {
      "text/plain": [
       "psi_22000"
      ]
     },
     "metadata": {},
     "output_type": "display_data"
    },
    {
     "data": {
      "text/latex": [
       "$\\displaystyle - \\frac{4 n_{2}}{9}$"
      ],
      "text/plain": [
       "-4*n2/9"
      ]
     },
     "metadata": {},
     "output_type": "display_data"
    },
    {
     "data": {
      "text/plain": [
       "psi_32000"
      ]
     },
     "metadata": {},
     "output_type": "display_data"
    },
    {
     "data": {
      "text/latex": [
       "$\\displaystyle - \\frac{8 i n_{2}}{9}$"
      ],
      "text/plain": [
       "-8*I*n2/9"
      ]
     },
     "metadata": {},
     "output_type": "display_data"
    }
   ],
   "source": [
    "quadratic_subs = {key: val for key, val in zip(quadratic_coefficients, sol)}\n",
    "for k, v in quadratic_subs.items():\n",
    "    disp.display(k, v)"
   ]
  },
  {
   "cell_type": "markdown",
   "metadata": {},
   "source": [
    "## Cubic terms\n",
    "The matrix represenbting the LHS of the system of equations at cubic order is rank-deficient, so we can not use one of the `solve` procedures. Instead we calculate the null space of the LHS and multiply by the RHS to recover a system of equations involving the coefficients {P1, P2, Q1, Q2} (and their conjugates)."
   ]
  },
  {
   "cell_type": "code",
   "execution_count": 35,
   "metadata": {},
   "outputs": [],
   "source": [
    "# cubic solution\n",
    "out_l = [el.coeff(epsilon, 3) for el in LHS]\n",
    "out_r = [el.coeff(epsilon, 3) for el in RHS]\n",
    "cubic_equations = []\n",
    "for l, r in zip(out_l, out_r):\n",
    "    tmp = collect(expand(l - r).subs(quadratic_subs), cubic_terms, evaluate=False)\n",
    "    for term in cubic_terms:\n",
    "        cubic_equations.append(Add(tmp[term._sympy_()]))  # incompatibility betwen sympy and symengine symbols"
   ]
  },
  {
   "cell_type": "code",
   "execution_count": 36,
   "metadata": {},
   "outputs": [
    {
     "data": {
      "text/plain": [
       "(-3/2)*P2 + psi_00210 + 2*psi_20210 + I*psi_30210 + psi_31110 + (-52/27)*n2**2"
      ]
     },
     "execution_count": 36,
     "metadata": {},
     "output_type": "execute_result"
    }
   ],
   "source": [
    "cubic_equations[70]"
   ]
  },
  {
   "cell_type": "code",
   "execution_count": 37,
   "metadata": {},
   "outputs": [],
   "source": [
    "free_coefficients = [P1, P2, Q1, Q2, P1_bar, P2_bar, Q1_bar, Q2_bar]"
   ]
  },
  {
   "cell_type": "code",
   "execution_count": 38,
   "metadata": {},
   "outputs": [],
   "source": [
    "# create the matrices\n",
    "C3, C3r = linear_eq_to_matrix(cubic_equations, [s._sympy_() for s in cubic_coefficients])"
   ]
  },
  {
   "cell_type": "code",
   "execution_count": 39,
   "metadata": {},
   "outputs": [],
   "source": [
    "kern = C3.T.nullspace()"
   ]
  },
  {
   "cell_type": "code",
   "execution_count": 40,
   "metadata": {},
   "outputs": [],
   "source": [
    "M_kern = Matrix([list(k) for k in kern])"
   ]
  },
  {
   "cell_type": "code",
   "execution_count": 41,
   "metadata": {},
   "outputs": [],
   "source": [
    "system = simplify(M_kern * C3r)"
   ]
  },
  {
   "cell_type": "code",
   "execution_count": 42,
   "metadata": {},
   "outputs": [],
   "source": [
    "sol3_free = solve(system, free_coefficients)"
   ]
  },
  {
   "cell_type": "code",
   "execution_count": 43,
   "metadata": {
    "scrolled": true
   },
   "outputs": [
    {
     "data": {
      "text/latex": [
       "$\\displaystyle P_{1}$"
      ],
      "text/plain": [
       "P1"
      ]
     },
     "metadata": {},
     "output_type": "display_data"
    },
    {
     "data": {
      "text/latex": [
       "$\\displaystyle - \\frac{37 n_{2}^{2}}{72} - \\frac{9 n_{3}}{16}$"
      ],
      "text/plain": [
       "-37*n2**2/72 - 9*n3/16"
      ]
     },
     "metadata": {},
     "output_type": "display_data"
    },
    {
     "data": {
      "text/latex": [
       "$\\displaystyle P_{2}$"
      ],
      "text/plain": [
       "P2"
      ]
     },
     "metadata": {},
     "output_type": "display_data"
    },
    {
     "data": {
      "text/latex": [
       "$\\displaystyle - \\frac{92 n_{2}^{2}}{81}$"
      ],
      "text/plain": [
       "-92*n2**2/81"
      ]
     },
     "metadata": {},
     "output_type": "display_data"
    },
    {
     "data": {
      "text/latex": [
       "$\\displaystyle Q_{1}$"
      ],
      "text/plain": [
       "Q1"
      ]
     },
     "metadata": {},
     "output_type": "display_data"
    },
    {
     "data": {
      "text/latex": [
       "$\\displaystyle - \\frac{5 n_{2}^{2}}{6} - \\frac{3 n_{3}}{4}$"
      ],
      "text/plain": [
       "-5*n2**2/6 - 3*n3/4"
      ]
     },
     "metadata": {},
     "output_type": "display_data"
    },
    {
     "data": {
      "text/latex": [
       "$\\displaystyle Q_{2}$"
      ],
      "text/plain": [
       "Q2"
      ]
     },
     "metadata": {},
     "output_type": "display_data"
    },
    {
     "data": {
      "text/latex": [
       "$\\displaystyle - \\frac{23 n_{2}^{2}}{36} - \\frac{3 n_{3}}{8}$"
      ],
      "text/plain": [
       "-23*n2**2/36 - 3*n3/8"
      ]
     },
     "metadata": {},
     "output_type": "display_data"
    },
    {
     "data": {
      "text/latex": [
       "$\\displaystyle P_{1 bar}$"
      ],
      "text/plain": [
       "P1_bar"
      ]
     },
     "metadata": {},
     "output_type": "display_data"
    },
    {
     "data": {
      "text/latex": [
       "$\\displaystyle - \\frac{37 n_{2}^{2}}{72} - \\frac{9 n_{3}}{16}$"
      ],
      "text/plain": [
       "-37*n2**2/72 - 9*n3/16"
      ]
     },
     "metadata": {},
     "output_type": "display_data"
    },
    {
     "data": {
      "text/latex": [
       "$\\displaystyle P_{2 bar}$"
      ],
      "text/plain": [
       "P2_bar"
      ]
     },
     "metadata": {},
     "output_type": "display_data"
    },
    {
     "data": {
      "text/latex": [
       "$\\displaystyle - \\frac{92 n_{2}^{2}}{81}$"
      ],
      "text/plain": [
       "-92*n2**2/81"
      ]
     },
     "metadata": {},
     "output_type": "display_data"
    },
    {
     "data": {
      "text/latex": [
       "$\\displaystyle Q_{1 bar}$"
      ],
      "text/plain": [
       "Q1_bar"
      ]
     },
     "metadata": {},
     "output_type": "display_data"
    },
    {
     "data": {
      "text/latex": [
       "$\\displaystyle - \\frac{5 n_{2}^{2}}{6} - \\frac{3 n_{3}}{4}$"
      ],
      "text/plain": [
       "-5*n2**2/6 - 3*n3/4"
      ]
     },
     "metadata": {},
     "output_type": "display_data"
    },
    {
     "data": {
      "text/latex": [
       "$\\displaystyle Q_{2 bar}$"
      ],
      "text/plain": [
       "Q2_bar"
      ]
     },
     "metadata": {},
     "output_type": "display_data"
    },
    {
     "data": {
      "text/latex": [
       "$\\displaystyle - \\frac{23 n_{2}^{2}}{36} - \\frac{3 n_{3}}{8}$"
      ],
      "text/plain": [
       "-23*n2**2/36 - 3*n3/8"
      ]
     },
     "metadata": {},
     "output_type": "display_data"
    }
   ],
   "source": [
    "for k, v in sol3_free.items():\n",
    "    disp.display(k, simplify(v))"
   ]
  }
 ],
 "metadata": {
  "kernelspec": {
   "display_name": "Python 3",
   "language": "python",
   "name": "python3"
  },
  "language_info": {
   "codemirror_mode": {
    "name": "ipython",
    "version": 3
   },
   "file_extension": ".py",
   "mimetype": "text/x-python",
   "name": "python",
   "nbconvert_exporter": "python",
   "pygments_lexer": "ipython3",
   "version": "3.6.10"
  }
 },
 "nbformat": 4,
 "nbformat_minor": 4
}
