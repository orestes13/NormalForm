{
 "cells": [
  {
   "cell_type": "code",
   "execution_count": null,
   "metadata": {},
   "outputs": [],
   "source": [
    "import itertools\n",
    "\n",
    "import numpy as np\n",
    "import IPython.display as disp\n",
    "from sympy import simplify, collect, log, I, diff, eye, solve\n",
    "from symengine import expand, Symbol, conjugate, symbols, Matrix, linsolve, Add"
   ]
  },
  {
   "cell_type": "markdown",
   "metadata": {},
   "source": [
    "# Normal Form of the Swift-Hohenberg Equation\n",
    "In this notebook we determine the coefficients of the normal form of the Swift-Hohenberg equation."
   ]
  },
  {
   "cell_type": "code",
   "execution_count": null,
   "metadata": {},
   "outputs": [],
   "source": [
    "# linear matrix\n",
    "L = Matrix([[0, 1, 0, 0],\n",
    "            [0, 0, 1, 0],\n",
    "            [0, 0, 0, 1],\n",
    "            [-1, 0, -2, 0]])"
   ]
  },
  {
   "cell_type": "code",
   "execution_count": null,
   "metadata": {},
   "outputs": [],
   "source": [
    "L"
   ]
  },
  {
   "cell_type": "code",
   "execution_count": null,
   "metadata": {},
   "outputs": [],
   "source": [
    "# reversibility\n",
    "R = eye(4)\n",
    "for i in range(1, 3):\n",
    "    R[2 * i - 1, 2 * i - 1] = -1"
   ]
  },
  {
   "cell_type": "code",
   "execution_count": null,
   "metadata": {},
   "outputs": [],
   "source": [
    "R"
   ]
  },
  {
   "cell_type": "code",
   "execution_count": null,
   "metadata": {},
   "outputs": [],
   "source": [
    "# main variables\n",
    "A = Symbol('A')\n",
    "B = Symbol('B')\n",
    "\n",
    "A_bar = Symbol('A_bar')  # conjugate(A)\n",
    "B_bar = Symbol('B_bar')  # conjugate(B)\n",
    "\n",
    "z_tilde = Matrix([A, B, A_bar, B_bar])\n",
    "\n",
    "relations = {conjugate(A): A_bar, conjugate(B): B_bar,\n",
    "             conjugate(A_bar): A, conjugate(B_bar): B}"
   ]
  },
  {
   "cell_type": "code",
   "execution_count": null,
   "metadata": {},
   "outputs": [],
   "source": [
    "quadratic_terms = set(np.product(el) for el in itertools.product(z_tilde, z_tilde))\n",
    "cubic_terms = set(np.product(el) for el in itertools.product(z_tilde, z_tilde, z_tilde))"
   ]
  },
  {
   "cell_type": "code",
   "execution_count": null,
   "metadata": {},
   "outputs": [],
   "source": [
    "# integrals\n",
    "c1 = A * A_bar\n",
    "c2 = I * B / A + log(A)\n",
    "c3 = I * (A * B_bar - A_bar * B)"
   ]
  },
  {
   "cell_type": "code",
   "execution_count": null,
   "metadata": {},
   "outputs": [],
   "source": [
    "# vectors and matrices\n",
    "zeta_0 = Matrix([1, I, -1, -I])\n",
    "zeta_1 = Matrix([0, 1, 2 * I, -3])\n",
    "\n",
    "# conjugate doesn't work on symengine Matrix\n",
    "zeta_0_bar = Matrix([conjugate(el) for el in zeta_0])\n",
    "zeta_1_bar = Matrix([conjugate(el) for el in zeta_1])\n",
    "\n",
    "M = Matrix([[1, 0, 1, 0],\n",
    "            [I, 1, -I, 1],\n",
    "            [-1, 2 * I, -1,-2 * I],\n",
    "            [-I, -3, I, -3]])\n",
    "\n",
    "M_inv = M.inv()\n",
    "\n",
    "L0 = M_inv * L * M"
   ]
  },
  {
   "cell_type": "code",
   "execution_count": null,
   "metadata": {},
   "outputs": [],
   "source": [
    "# polynomial vector\n",
    "powers = [(0, 1, 2, 3) for _ in range(4)]\n",
    "poly_powers = [el for el in itertools.product(*powers) if sum(el) in (2, 3)]\n",
    "poly = 4 * [0]\n",
    "quadratic_coefficients = []\n",
    "cubic_coefficients = []\n",
    "for idx in poly_powers:\n",
    "    for j in range(4):\n",
    "        coeff = Symbol('psi_{}'.format(''.join([str(el) for el in (j,) + idx])))\n",
    "        poly[j] += coeff * np.product([x**i for x, i in zip(z_tilde, idx)])\n",
    "        if sum(idx) == 2:\n",
    "            quadratic_coefficients.append(coeff)\n",
    "        elif sum(idx) == 3:\n",
    "            cubic_coefficients.append(coeff)\n",
    "psi = Matrix(poly)"
   ]
  },
  {
   "cell_type": "markdown",
   "metadata": {},
   "source": [
    "## Reversibility\n",
    "Now we make use of the reversibility of the system to determine relations between some of the unknown coefficients"
   ]
  },
  {
   "cell_type": "code",
   "execution_count": null,
   "metadata": {},
   "outputs": [],
   "source": [
    "# define a scaling to help collect together terms\n",
    "epsilon = Symbol('epsilon')\n",
    "scalings = {A: epsilon * A, B: epsilon * B,\n",
    "            A_bar: epsilon * A_bar, B_bar: epsilon * B_bar}"
   ]
  },
  {
   "cell_type": "code",
   "execution_count": null,
   "metadata": {},
   "outputs": [],
   "source": [
    "psi_scaled = expand(psi.subs(scalings))"
   ]
  },
  {
   "cell_type": "code",
   "execution_count": null,
   "metadata": {},
   "outputs": [],
   "source": [
    "reversibility = {A: A_bar, B: -B_bar,\n",
    "                 A_bar: A, B_bar: -B}\n",
    "psiR_scaled = expand(psi_scaled.subs(reversibility))"
   ]
  },
  {
   "cell_type": "code",
   "execution_count": null,
   "metadata": {},
   "outputs": [],
   "source": [
    "psi_quadratic_relations = []\n",
    "psi_cubic_relations = []\n",
    "\n",
    "invariant_quadratic_terms = []\n",
    "invariant_cubic_terms = []\n",
    "\n",
    "for psi_l, psi_r in zip(psi_scaled, psiR_scaled):\n",
    "    tmp_coll = collect(psi_l - psi_r, [epsilon**2, epsilon**3], evaluate=False)\n",
    "    tmp_quad = collect(tmp_coll[epsilon._sympy_()**2], quadratic_terms, evaluate=False)\n",
    "    tmp_cubic = collect(tmp_coll[epsilon._sympy_()**3], cubic_terms, evaluate=False)\n",
    "    for term in quadratic_terms:\n",
    "        try:\n",
    "            psi_quadratic_relations.append(Add(tmp_quad[term._sympy_()]))\n",
    "        except KeyError:\n",
    "            invariant_quadratic_terms.append(term)\n",
    "    for term in cubic_terms:\n",
    "        try:\n",
    "            psi_cubic_relations.append(Add(tmp_cubic[term._sympy_()]))\n",
    "        except KeyError:\n",
    "            invariant_cubic_terms.append(term)"
   ]
  },
  {
   "cell_type": "code",
   "execution_count": null,
   "metadata": {},
   "outputs": [],
   "source": [
    "quad_sol_rev = {}\n",
    "psi_quadratic_relations = list(set(psi_quadratic_relations))\n",
    "for eqn in psi_quadratic_relations:\n",
    "    if eqn == 0:\n",
    "        continue\n",
    "    tmp_var = list(eqn.free_symbols)[0]\n",
    "    tmp_sol = linsolve([eqn], [tmp_var])[0]\n",
    "    for i in range(len(psi_quadratic_relations)):\n",
    "        psi_quadratic_relations[i] = psi_quadratic_relations[i].subs({tmp_var: tmp_sol})\n",
    "    quad_sol_rev.update({tmp_var: tmp_sol})"
   ]
  },
  {
   "cell_type": "code",
   "execution_count": null,
   "metadata": {},
   "outputs": [],
   "source": [
    "cubic_sol_rev = {}\n",
    "psi_cubic_relations = list(set(psi_cubic_relations))\n",
    "for eqn in psi_cubic_relations:\n",
    "    if eqn == 0:\n",
    "        continue\n",
    "    tmp_var = list(eqn.free_symbols)[0]\n",
    "    tmp_sol = linsolve([eqn], [tmp_var])[0]\n",
    "    for i in range(len(psi_cubic_relations)):\n",
    "        psi_cubic_relations[i] = psi_cubic_relations[i].subs({tmp_var: tmp_sol})\n",
    "    cubic_sol_rev.update({tmp_var: tmp_sol})"
   ]
  },
  {
   "cell_type": "code",
   "execution_count": null,
   "metadata": {},
   "outputs": [],
   "source": [
    "#for i, p in enumerate(poly):\n",
    "#    poly[i] = expand(p.subs(quad_sol_rev))\n",
    "#for i, p in enumerate(poly):\n",
    "#    poly[i] = expand(p.subs(cubic_sol_rev))\n",
    "\n",
    "#psi = Matrix(poly)"
   ]
  },
  {
   "cell_type": "code",
   "execution_count": null,
   "metadata": {},
   "outputs": [],
   "source": [
    "#quad_coeffs = [coeff for coeff in psi.free_symbols if coeff in quadratic_coefficients]\n",
    "#quadratic_coefficients = quad_coeffs"
   ]
  },
  {
   "cell_type": "code",
   "execution_count": null,
   "metadata": {},
   "outputs": [],
   "source": [
    "#cubic_coeffs = [coeff for coeff in psi.free_symbols if coeff in cubic_coefficients]\n",
    "#cubic_coefficients = cubic_coeffs"
   ]
  },
  {
   "cell_type": "code",
   "execution_count": null,
   "metadata": {},
   "outputs": [],
   "source": [
    "psi_A = Matrix([diff(p, A) for p in poly])\n",
    "psi_B = Matrix([diff(p, B) for p in poly])\n",
    "psi_A_bar = Matrix([diff(p, A_bar) for p in poly])\n",
    "psi_B_bar = Matrix([diff(p, B_bar) for p in poly])"
   ]
  },
  {
   "cell_type": "code",
   "execution_count": null,
   "metadata": {},
   "outputs": [],
   "source": [
    "# derivatives w.r.t. x\n",
    "P1, P2, P1_bar, P2_bar = symbols('P1 P2 P1_bar P2_bar')\n",
    "Q1, Q2, Q1_bar, Q2_bar = symbols('Q1 Q2 Q1_bar Q2_bar')\n",
    "\n",
    "P = P1 * c1 + P2 * c3\n",
    "P = simplify(expand(P))\n",
    "Q = Q1 * c1 + Q2 * c3\n",
    "Q = simplify(expand(Q))\n",
    "\n",
    "P_bar = simplify(expand(conjugate(P).subs(relations)))\n",
    "Q_bar = simplify(expand(conjugate(Q).subs(relations)))"
   ]
  },
  {
   "cell_type": "code",
   "execution_count": null,
   "metadata": {},
   "outputs": [],
   "source": [
    "# symengine doesn't support assumptions, so manually enforce the real/imagainary assumptions\n",
    "assumptions = {conjugate(P1): P1_bar, conjugate(P2): P2_bar,\n",
    "               conjugate(P1_bar): P1, conjugate(P2_bar): P2,\n",
    "               conjugate(Q1): Q1_bar, conjugate(Q2): Q2_bar,\n",
    "               conjugate(Q1_bar): Q1, conjugate(Q2_bar): Q2}"
   ]
  },
  {
   "cell_type": "code",
   "execution_count": null,
   "metadata": {},
   "outputs": [],
   "source": [
    "P = P.subs(assumptions)\n",
    "Q = Q.subs(assumptions)\n",
    "P_bar = P_bar.subs(assumptions)\n",
    "Q_bar = Q_bar.subs(assumptions)"
   ]
  },
  {
   "cell_type": "code",
   "execution_count": null,
   "metadata": {},
   "outputs": [],
   "source": [
    "simplify(P_bar)"
   ]
  },
  {
   "cell_type": "code",
   "execution_count": null,
   "metadata": {},
   "outputs": [],
   "source": [
    "A_x = I * A + B + I * A * P\n",
    "A_x = simplify(expand(A_x))\n",
    "B_x = I * B + I * B * P + A * Q\n",
    "B_x = simplify(expand(B_x))\n",
    "\n",
    "A_bar_x = simplify(conjugate(A_x)).subs(relations).subs(assumptions)\n",
    "B_bar_x = simplify(conjugate(B_x)).subs(relations).subs(assumptions)"
   ]
  },
  {
   "cell_type": "code",
   "execution_count": null,
   "metadata": {},
   "outputs": [],
   "source": [
    "A_x"
   ]
  },
  {
   "cell_type": "code",
   "execution_count": null,
   "metadata": {},
   "outputs": [],
   "source": [
    "A_bar_x"
   ]
  },
  {
   "cell_type": "markdown",
   "metadata": {},
   "source": [
    "# Construct the Equations\n",
    "\n",
    "We now construct the equations which determine the values of the unknown coefficients."
   ]
  },
  {
   "cell_type": "code",
   "execution_count": null,
   "metadata": {},
   "outputs": [],
   "source": [
    "# construct LHS of equation\n",
    "LHS = (zeta_0 + psi_A) * A_x + (zeta_1 + psi_B) * B_x\n",
    "LHS += (zeta_0_bar + psi_A_bar) * A_bar_x + (zeta_1_bar + psi_B_bar) * B_bar_x\n",
    "\n",
    "LHS = expand(LHS).subs(scalings)"
   ]
  },
  {
   "cell_type": "code",
   "execution_count": null,
   "metadata": {},
   "outputs": [],
   "source": [
    "# construct RHS of equation\n",
    "z = z_tilde + psi\n",
    "Mz = M * z\n",
    "Mz = Mz.subs(scalings)\n",
    "\n",
    "# linear part\n",
    "RHS = L * z\n",
    "RHS = expand(RHS).subs(scalings)\n",
    "\n",
    "# nonlinear part\n",
    "n2, n3 = symbols('n2 n3', real=True)\n",
    "eps_terms = collect(Mz[0], [epsilon, epsilon**2], evaluate=False)\n",
    "Mz = epsilon * eps_terms[epsilon._sympy_()] + epsilon**2 * eps_terms[epsilon._sympy_()**2]\n",
    "\n",
    "# quadratic\n",
    "n2_terms = n2 * Mz**2\n",
    "n2_terms = collect(expand(n2_terms), [epsilon, epsilon**2], evaluate=False)\n",
    "n2_terms = epsilon**2 * n2_terms[epsilon._sympy_()**2] + epsilon**3 * n2_terms[epsilon._sympy_()**3]\n",
    "\n",
    "# cubic\n",
    "n3_terms = n3 * Mz**3\n",
    "n3_terms = collect(expand(n3_terms), [epsilon, epsilon**2], evaluate=False)\n",
    "n3_terms = epsilon**3 * n3_terms[epsilon._sympy_()**3]\n",
    "\n",
    "N = Matrix([0, 0, 0, n2_terms + n3_terms])\n",
    "RHS += N"
   ]
  },
  {
   "cell_type": "markdown",
   "metadata": {},
   "source": [
    "## Quadratic terms"
   ]
  },
  {
   "cell_type": "code",
   "execution_count": null,
   "metadata": {},
   "outputs": [],
   "source": [
    "# quadratic solution\n",
    "out_l = [el.coeff(epsilon, 2) for el in LHS]\n",
    "out_r = [el.coeff(epsilon, 2) for el in RHS]\n",
    "quadratic_equations = []\n",
    "for l, r in zip(out_l, out_r):\n",
    "    tmp = collect(expand(l - r), quadratic_terms, evaluate=False)\n",
    "    for term in quadratic_terms:\n",
    "        quadratic_equations.append(Add(tmp[term._sympy_()]))  # incompatibility between sympy and symengine symbols"
   ]
  },
  {
   "cell_type": "code",
   "execution_count": null,
   "metadata": {},
   "outputs": [],
   "source": [
    "len(quadratic_equations)"
   ]
  },
  {
   "cell_type": "code",
   "execution_count": null,
   "metadata": {},
   "outputs": [],
   "source": [
    "# create the matrices\n",
    "Q = []\n",
    "Qr = []\n",
    "for eq in quadratic_equations:\n",
    "    rhs_term = 0\n",
    "    Q.append([eq.coeff(coeff) for coeff in quadratic_coefficients])\n",
    "    for coeff in eq.free_symbols.difference(set(quadratic_coefficients)):\n",
    "        rhs_term += -coeff * eq.coeff(coeff) \n",
    "    Qr.append(rhs_term)\n",
    "Q = Matrix(Q)\n",
    "Qr = Matrix(Qr)"
   ]
  },
  {
   "cell_type": "code",
   "execution_count": null,
   "metadata": {},
   "outputs": [],
   "source": [
    "sol = Q.LUsolve(Qr)"
   ]
  },
  {
   "cell_type": "code",
   "execution_count": null,
   "metadata": {},
   "outputs": [],
   "source": [
    "quadratic_subs = {key: val for key, val in zip(quadratic_coefficients, sol)}\n",
    "print(quadratic_subs)"
   ]
  },
  {
   "cell_type": "markdown",
   "metadata": {},
   "source": [
    "## Cubic terms\n",
    "The matrix represenbting the LHS of the system of equations at cubic order is rank-deficient, so we can not use one of the `solve` procedures. Instead we calculate the null space of the LHS and multiply by the RHS to recover a system of equations involving the coefficients {P1, P2, Q1, Q2} (and their conjugates)."
   ]
  },
  {
   "cell_type": "code",
   "execution_count": null,
   "metadata": {},
   "outputs": [],
   "source": [
    "# cubic solution\n",
    "out_l = [el.coeff(epsilon, 3) for el in LHS]\n",
    "out_r = [el.coeff(epsilon, 3) for el in RHS]\n",
    "cubic_equations = []\n",
    "for l, r in zip(out_l, out_r):\n",
    "    tmp = collect(expand(l - r).subs(quadratic_subs), cubic_terms, evaluate=False)\n",
    "    for term in cubic_terms:\n",
    "        cubic_equations.append(Add(tmp[term._sympy_()]))  # incompatibility betwen sympy and symengine symbols"
   ]
  },
  {
   "cell_type": "code",
   "execution_count": null,
   "metadata": {},
   "outputs": [],
   "source": [
    "cubic_equations[-1]"
   ]
  },
  {
   "cell_type": "code",
   "execution_count": null,
   "metadata": {},
   "outputs": [],
   "source": [
    "free_coefficients = [P1, P2, Q1, Q2, P1_bar, P2_bar, Q1_bar, Q2_bar]"
   ]
  },
  {
   "cell_type": "code",
   "execution_count": null,
   "metadata": {},
   "outputs": [],
   "source": [
    "# create the matrices\n",
    "C3 = []\n",
    "Cfree =[]\n",
    "C3r = []\n",
    "for eq in cubic_equations:\n",
    "    rhs_term = 0\n",
    "    C3.append([eq.coeff(coeff) for coeff in cubic_coefficients])\n",
    "    Cfree.append([eq.coeff(coeff) for coeff in free_coefficients])\n",
    "    n_coeffs = eq.free_symbols.difference(set(cubic_coefficients))\n",
    "    coll = {k: v for k, v in collect(eq, n_coeffs, evaluate=False).items() if k != 1}\n",
    "    if len(coll) > 0:\n",
    "        for k, v in coll.items():\n",
    "            rhs_term += -k * v\n",
    "    C3r.append(rhs_term)\n",
    "C3 = Matrix(C3)\n",
    "Cfree = Matrix(Cfree)\n",
    "C3r = Matrix(C3r)"
   ]
  },
  {
   "cell_type": "code",
   "execution_count": null,
   "metadata": {},
   "outputs": [],
   "source": [
    "QQ = C3._sympy_()\n",
    "QQr = C3r._sympy_()"
   ]
  },
  {
   "cell_type": "code",
   "execution_count": null,
   "metadata": {},
   "outputs": [],
   "source": [
    "QT = QQ.T"
   ]
  },
  {
   "cell_type": "code",
   "execution_count": null,
   "metadata": {},
   "outputs": [],
   "source": [
    "kern = QT.nullspace()"
   ]
  },
  {
   "cell_type": "code",
   "execution_count": null,
   "metadata": {},
   "outputs": [],
   "source": [
    "M_kern = Matrix([list(k) for k in kern])"
   ]
  },
  {
   "cell_type": "code",
   "execution_count": null,
   "metadata": {},
   "outputs": [],
   "source": [
    "system = simplify(M_kern * C3r)"
   ]
  },
  {
   "cell_type": "code",
   "execution_count": null,
   "metadata": {},
   "outputs": [],
   "source": [
    "sol = solve(system, free_coefficients)"
   ]
  },
  {
   "cell_type": "code",
   "execution_count": null,
   "metadata": {},
   "outputs": [],
   "source": [
    "for k, v in sol.items():\n",
    "    disp.display(k, v)"
   ]
  }
 ],
 "metadata": {
  "kernelspec": {
   "display_name": "Python 3",
   "language": "python",
   "name": "python3"
  },
  "language_info": {
   "codemirror_mode": {
    "name": "ipython",
    "version": 3
   },
   "file_extension": ".py",
   "mimetype": "text/x-python",
   "name": "python",
   "nbconvert_exporter": "python",
   "pygments_lexer": "ipython3",
   "version": "3.6.10"
  }
 },
 "nbformat": 4,
 "nbformat_minor": 4
}
