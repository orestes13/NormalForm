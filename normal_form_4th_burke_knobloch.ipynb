{
 "cells": [
  {
   "cell_type": "code",
   "execution_count": 1,
   "metadata": {},
   "outputs": [],
   "source": [
    "import itertools\n",
    "import IPython.display as disp\n",
    "\n",
    "import numpy as np\n",
    "from sympy import Indexed, simplify, collect, O, log, I, diff, eye, solve\n",
    "from sympy.solvers.solveset import linear_eq_to_matrix\n",
    "from symengine import expand, Symbol, conjugate, symbols, Matrix, linsolve, Add"
   ]
  },
  {
   "cell_type": "markdown",
   "metadata": {},
   "source": [
    "# Normal Form for Spatial Dynamics in the Swift-Hohenberg Equation\n",
    "In this notebook we repreoduce the paper `Normal Form for Spatial Dynamics in the Swift-Hohenberg Equation` by John Burke and Edgar Knobloch. We consider steady solutions of the system\n",
    "$$\n",
    "  \\frac{\\partial u}{\\partial t} = \\mu u - (1 + \\partial_{x}^{2})^{2} u + f(u),\n",
    "$$\n",
    "where typically $f(u) = n_{2} u^{2} + n_{3} u^{3}$ or $f(u) = n_{3} u^{3} + n_{5} u^{5}$. With $\\partial / \\partial t \\equiv 0$ we can write the above equation at the bifurcation point $\\mu = 0$ as\n",
    "$$\n",
    "  \\frac{dU}{dx} = \\mathcal{L} U + \\mathcal{N},\n",
    "$$\n",
    "where\n",
    "$$\n",
    " U = \\begin{pmatrix}\n",
    "       u_{0} \\\\\n",
    "       u_{1} \\\\\n",
    "       u_{2} \\\\\n",
    "       u_{3}\n",
    "     \\end{pmatrix}, \\quad\n",
    " \\mathcal{L} = \\begin{pmatrix}\n",
    "                 0 & 1 & 0 & 0 \\\\\n",
    "                 0 & 0 & 1 & 0 \\\\\n",
    "                 0 & 0 & 0 & 1 \\\\\n",
    "                 - 1 & 0 & -2 & 0\n",
    "                \\end{pmatrix}, \\quad\n",
    "  \\mathcal{n} = \\begin{pmatrix}\n",
    "                  0 \\\\\n",
    "                  0 \\\\\n",
    "                  0 \\\\\n",
    "                  n_{2} u^{2} + n_{3} u^{3}\n",
    "                \\end{pmatrix}.\n",
    "$$"
   ]
  },
  {
   "cell_type": "code",
   "execution_count": 2,
   "metadata": {},
   "outputs": [
    {
     "data": {
      "text/plain": [
       "[0, 1, 0, 0]\n",
       "[0, 0, 1, 0]\n",
       "[0, 0, 0, 1]\n",
       "[-1, 0, -2, 0]"
      ]
     },
     "execution_count": 2,
     "metadata": {},
     "output_type": "execute_result"
    }
   ],
   "source": [
    "# linear matrix\n",
    "L = Matrix([[0, 1, 0, 0],\n",
    "            [0, 0, 1, 0],\n",
    "            [0, 0, 0, 1],\n",
    "            [-1, 0, -2, 0]])\n",
    "L"
   ]
  },
  {
   "cell_type": "markdown",
   "metadata": {},
   "source": [
    "The system isn reversible under spatial reflection ($x \\rightarrow -x$, $u \\rightarrow u$); we write this symmetry $R$ acting on the vector $U$ as\n",
    "\n",
    "$$\n",
    "  R =\\begin{pmatrix}\n",
    "       1 & 0 & 0 & 0 \\\\\n",
    "       0 & -1 & 0 & 0 \\\\\n",
    "       0 & 0 & 1 & 0 \\\\\n",
    "       0 & 0 & 0 & -1\n",
    "     \\end{pmatrix}.\n",
    "$$"
   ]
  },
  {
   "cell_type": "code",
   "execution_count": 3,
   "metadata": {},
   "outputs": [],
   "source": [
    "R = eye(4)\n",
    "for i in range(1, 3):\n",
    "    R[2 * i - 1, 2 * i - 1] = -1"
   ]
  },
  {
   "cell_type": "markdown",
   "metadata": {},
   "source": [
    "We introduce a cooridnate transform from the $U$ basis to $(A, B, \\bar{A}, \\bar{B})$, defined as\n",
    "$$\n",
    "  A = A(U) = \\sum_{n_{i} \\geq 0} A_{n_{0} n_{1} n_{2} n_{3}} u_{0}^{n_{0}} u_{1}^{n_{1}} u_{2}^{n_{2}} u_{3}^{n_{3}},\n",
    "$$\n",
    "$$\n",
    "  B = B(U) = \\sum_{n_{i} \\geq 0} B_{n_{0} n_{1} n_{2} n_{3}} u_{0}^{n_{0}} u_{1}^{n_{1}} u_{2}^{n_{2}} u_{3}^{n_{3}},\n",
    "$$\n",
    "and using the reversibility symmetry the conjugate counterparts, namely\n",
    "$$\n",
    "  \\bar{A} = \\bar{A}(U) = \\sum_{n_{i} \\geq 0} A_{n_{0} n_{1} n_{2} n_{3}} u_{0}^{n_{0}} (-u_{1})^{n_{1}} u_{2}^{n_{2}} (-u_{3})^{n_{3}},\n",
    "$$\n",
    "$$\n",
    "  \\bar{B} = \\bar{B}(U) = - \\sum_{n_{i} \\geq 0} B_{n_{0} n_{1} n_{2} n_{3}} u_{0}^{n_{0}} (-u_{1})^{n_{1}} u_{2}^{n_{2}} (-u_{3})^{n_{3}},\n",
    "$$"
   ]
  },
  {
   "cell_type": "code",
   "execution_count": 4,
   "metadata": {},
   "outputs": [],
   "source": [
    "# main variables\n",
    "A = Symbol('A')\n",
    "B = Symbol('B')\n",
    "\n",
    "A_bar = Symbol('A_bar')  # conjugate(A)\n",
    "B_bar = Symbol('B_bar')  # conjugate(B)\n",
    "\n",
    "z_tilde = Matrix([A, B, A_bar, B_bar])\n",
    "\n",
    "relations = {conjugate(A): A_bar, conjugate(B): B_bar,\n",
    "             conjugate(A_bar): A, conjugate(B_bar): B}"
   ]
  },
  {
   "cell_type": "code",
   "execution_count": 5,
   "metadata": {},
   "outputs": [],
   "source": [
    "u0, u1, u2, u3 = symbols('u0 u1 u2 u3')\n",
    "U = [u0, u1, u2, u3]\n",
    "RU = [u0, -u1, u2, -u3]"
   ]
  },
  {
   "cell_type": "code",
   "execution_count": 6,
   "metadata": {},
   "outputs": [],
   "source": [
    "powers = [(0, 1, 2, 3) for _ in range(4)]\n",
    "poly_powers = [el for el in itertools.product(*powers) if sum(el) in [1, 2, 3]]\n",
    "poly_powers\n",
    "poly = 4 * [0]\n",
    "unknowns = []\n",
    "for idx in poly_powers:\n",
    "    coeff = Symbol('A_{}'.format(''.join([str(el) for el in idx])))\n",
    "    unknowns.append(coeff)\n",
    "    poly[0] += coeff * np.product([x**i for x, i in zip(U, idx)])\n",
    "    coeff = Symbol('B_{}'.format(''.join([str(el) for el in idx])))\n",
    "    unknowns.append(coeff)\n",
    "    poly[1] += coeff * np.product([x**i for x, i in zip(U, idx)])\n",
    "    coeff = Symbol('A_{}'.format(''.join([str(el) for el in idx])))\n",
    "    unknowns.append(coeff)\n",
    "    poly[2] += coeff * np.product([x**i for x, i in zip(RU, idx)])\n",
    "    coeff = Symbol('B_{}'.format(''.join([str(el) for el in idx])))\n",
    "    unknowns.append(coeff)\n",
    "    poly[3] -= coeff * np.product([x**i for x, i in zip(RU, idx)])"
   ]
  },
  {
   "cell_type": "code",
   "execution_count": 7,
   "metadata": {},
   "outputs": [
    {
     "data": {
      "text/latex": [
       "$\\displaystyle A_{0001} u_{3} + A_{0002} u_{3}^{2} + A_{0003} u_{3}^{3} + A_{0010} u_{2} + A_{0011} u_{2} u_{3} + A_{0012} u_{2} u_{3}^{2} + A_{0020} u_{2}^{2} + A_{0021} u_{2}^{2} u_{3} + A_{0030} u_{2}^{3} + A_{0100} u_{1} + A_{0101} u_{1} u_{3} + A_{0102} u_{1} u_{3}^{2} + A_{0110} u_{1} u_{2} + A_{0111} u_{1} u_{2} u_{3} + A_{0120} u_{1} u_{2}^{2} + A_{0200} u_{1}^{2} + A_{0201} u_{1}^{2} u_{3} + A_{0210} u_{1}^{2} u_{2} + A_{0300} u_{1}^{3} + A_{1000} u_{0} + A_{1001} u_{0} u_{3} + A_{1002} u_{0} u_{3}^{2} + A_{1010} u_{0} u_{2} + A_{1011} u_{0} u_{2} u_{3} + A_{1020} u_{0} u_{2}^{2} + A_{1100} u_{0} u_{1} + A_{1101} u_{0} u_{1} u_{3} + A_{1110} u_{0} u_{1} u_{2} + A_{1200} u_{0} u_{1}^{2} + A_{2000} u_{0}^{2} + A_{2001} u_{0}^{2} u_{3} + A_{2010} u_{0}^{2} u_{2} + A_{2100} u_{0}^{2} u_{1} + A_{3000} u_{0}^{3}$"
      ],
      "text/plain": [
       "A_0001*u3 + A_0002*u3**2 + A_0003*u3**3 + A_0010*u2 + A_0011*u2*u3 + A_0012*u2*u3**2 + A_0020*u2**2 + A_0021*u2**2*u3 + A_0030*u2**3 + A_0100*u1 + A_0101*u1*u3 + A_0102*u1*u3**2 + A_0110*u1*u2 + A_0111*u1*u2*u3 + A_0120*u1*u2**2 + A_0200*u1**2 + A_0201*u1**2*u3 + A_0210*u1**2*u2 + A_0300*u1**3 + A_1000*u0 + A_1001*u0*u3 + A_1002*u0*u3**2 + A_1010*u0*u2 + A_1011*u0*u2*u3 + A_1020*u0*u2**2 + A_1100*u0*u1 + A_1101*u0*u1*u3 + A_1110*u0*u1*u2 + A_1200*u0*u1**2 + A_2000*u0**2 + A_2001*u0**2*u3 + A_2010*u0**2*u2 + A_2100*u0**2*u1 + A_3000*u0**3"
      ]
     },
     "execution_count": 7,
     "metadata": {},
     "output_type": "execute_result"
    }
   ],
   "source": [
    "simplify(poly[0])"
   ]
  },
  {
   "cell_type": "markdown",
   "metadata": {},
   "source": [
    "The normal form for this bifurcation is given as\n",
    "$$\n",
    "  \\frac{dA}{dx} = iA + B + i A P(\\mu; c_{1}, c_{3}),\n",
    "$$\n",
    "$$\n",
    "  \\frac{dB}{dx} = iB + i B P(\\mu; c_{1}, c_{3}) + A Q(\\mu; c_{1}, c_{3}),\n",
    "$$\n",
    "where\n",
    "$c_{1} = \\lvert A \\rvert^{2}$ and $c_{3} = i (A \\bar{B} - \\bar{A} B) / 2$. The polynomials $P$ and $Q$ are given by\n",
    "$$\n",
    "P(\\mu; c_{1}, c_{2}) = p_{1} \\mu + p_{2} c_{1} + p_{3} c_{3} + p_{4} c_{1}^{2} + p_{5} c_{1} c_{3} + p_{6} c_{3}^{2}\n",
    "$$\n",
    "and\n",
    "$$\n",
    "Q(\\mu; c_{1}, c_{2}) = -q_{1} \\mu + q_{2} c_{1} + q_{3} c_{3} + q_{4} c_{1}^{2} + q_{5} c_{1} c_{3} + q_{6} c_{3}^{2}.\n",
    "$$"
   ]
  },
  {
   "cell_type": "code",
   "execution_count": 8,
   "metadata": {},
   "outputs": [],
   "source": [
    "# integrals\n",
    "c1 = A * A_bar\n",
    "c2 = I * B / A + log(A)\n",
    "c3 = I * (A * B_bar - A_bar * B) / 2"
   ]
  },
  {
   "cell_type": "code",
   "execution_count": 9,
   "metadata": {},
   "outputs": [],
   "source": [
    "p2, p3, p4, p5, p6 = symbols('p2 p3 p4 p5 p6')\n",
    "q2, q3, q4, q5, q6 = symbols('q2 q3 q4 q5 q6')"
   ]
  },
  {
   "cell_type": "code",
   "execution_count": 10,
   "metadata": {},
   "outputs": [],
   "source": [
    "P = p2 * c1 + p3 * c3# + p4 * c1**2 + p5 * c1 * c3 + p6 * c3**2\n",
    "Q = q2 * c1 + q3 * c3# + q4 * c1**2 + q5 * c1 * c3 + q6 * c3**2"
   ]
  },
  {
   "cell_type": "code",
   "execution_count": 11,
   "metadata": {},
   "outputs": [
    {
     "data": {
      "text/latex": [
       "$\\displaystyle A A_{bar} p_{2} + \\frac{i p_{3} \\left(A B_{bar} - A_{bar} B\\right)}{2}$"
      ],
      "text/plain": [
       "A*A_bar*p2 + I*p3*(A*B_bar - A_bar*B)/2"
      ]
     },
     "execution_count": 11,
     "metadata": {},
     "output_type": "execute_result"
    }
   ],
   "source": [
    "simplify(P)"
   ]
  },
  {
   "cell_type": "code",
   "execution_count": 12,
   "metadata": {},
   "outputs": [],
   "source": [
    "n2, n3 = symbols('n2 n3', real=True)"
   ]
  },
  {
   "cell_type": "code",
   "execution_count": 13,
   "metadata": {},
   "outputs": [],
   "source": [
    "expansions = {A: poly[0], B: poly[1], A_bar: poly[2], B_bar: poly[3]}"
   ]
  },
  {
   "cell_type": "markdown",
   "metadata": {},
   "source": [
    "To assist with separating orders we introduce an additional scaling $\\epsilon$. This scaling is not related to the large length scale $X$ which appears in the weakly nonlinear analyses."
   ]
  },
  {
   "cell_type": "code",
   "execution_count": 14,
   "metadata": {},
   "outputs": [],
   "source": [
    "epsilon = Symbol('epsilon')"
   ]
  },
  {
   "cell_type": "code",
   "execution_count": 15,
   "metadata": {},
   "outputs": [],
   "source": [
    "scalings = {u0: epsilon * u0, u1: epsilon * u1, u2: epsilon * u2, u3: epsilon * u3}"
   ]
  },
  {
   "cell_type": "markdown",
   "metadata": {},
   "source": [
    "Using the chain rule we rewrite the normal form as\n",
    "$$\n",
    "  \\begin{split}\n",
    "  \\frac{dA}{dx} &= \\left(\\frac{\\partial A}{\\partial u_{0}} \\frac{d u_{0}}{dx} + \\frac{\\partial A}{\\partial u_{1}} \\frac{d u_{1}}{dx} + \\frac{\\partial A}{\\partial u_{2}} \\frac{d u_{2}}{dx} + \\frac{\\partial A}{\\partial u_{3}} \\frac{d u_{3}}{dx}\\right) \\\\\n",
    "  &= \\left(\\frac{\\partial A}{\\partial u_{0}} u_{1} + \\frac{\\partial A}{\\partial u_{1}} u_{2} + \\frac{\\partial A}{\\partial u_{2}} u_{3} + \\frac{\\partial A}{\\partial u_{3}} (- u_{0} - 2 u_{2} + n_{2} u_{0}^{2} + n_{3} u_{0}^{3}) \\right) \\\\\n",
    "  &= iA + B + i A P(\\mu; c_{1}, c_{3}),\n",
    "  \\end{split}\n",
    "$$\n",
    "$$\n",
    "  \\begin{split}\n",
    "    \\frac{dB}{dx} &= \\left(\\frac{\\partial B}{\\partial u_{0}} \\frac{d u_{0}}{dx} + \\frac{\\partial B}{\\partial u_{1}} \\frac{d u_{1}}{dx} + \\frac{\\partial B}{\\partial u_{2}} \\frac{d u_{2}}{dx} + \\frac{\\partial B}{\\partial u_{3}} \\frac{d u_{3}}{dx}\\right) \\\\\n",
    "  &= \\left(\\frac{\\partial B}{\\partial u_{0}} u_{1} + \\frac{\\partial B}{\\partial u_{1}} u_{2} + \\frac{\\partial B}{\\partial u_{2}} u_{3} + \\frac{\\partial B}{\\partial u_{3}} (- u_{0} - 2 u_{2} + n_{2} u_{0}^{2} + n_{3} u_{0}^{3}) \\right) \\\\\n",
    "  &= iB + i B P(\\mu; c_{1}, c_{3}) + A Q(\\mu; c_{1}, C_{3}).\n",
    "  \\end{split}\n",
    "$$\n",
    "We can also derive additional equations using $d \\bar{A} / dx$ and $d \\bar{B} / dx$, but having already enforced the reversibility symmetry in the expansions of $A$ and $B$ these additional equations are redundant."
   ]
  },
  {
   "cell_type": "code",
   "execution_count": 16,
   "metadata": {},
   "outputs": [],
   "source": [
    "eqn1 = expand(diff(poly[0], u0) * u1 + diff(poly[0], u1) * u2 + diff(poly[0], u2) * u3 + diff(poly[0], u3) * (-u0 - 2 * u2 + n2 * u0**2 + n3 * u0**3) - I * A - B - I * A * P)\n",
    "eqn1 = expand(eqn1.subs(expansions).subs(scalings))"
   ]
  },
  {
   "cell_type": "code",
   "execution_count": 17,
   "metadata": {},
   "outputs": [],
   "source": [
    "eqn2 = expand(diff(poly[1], u0) * u1 + diff(poly[1], u1) * u2 + diff(poly[1], u2) * u3 + diff(poly[1], u3) * (-u0 - 2 * u2 + n2 * u0**2 + n3 * u0**3) - I * B - I * B * P - A * Q)\n",
    "eqn2 = expand(eqn2.subs(expansions).subs(scalings))"
   ]
  },
  {
   "cell_type": "markdown",
   "metadata": {},
   "source": [
    "## n = 1\n",
    "At order $n = 1$, we collect together terms linear in the scaling term $\\epsilon$, which gives us a system of 8 equations in 8 unknowns $\\{A_{1000}, A_{0100}, A_{0010}, A_{0001}\\}$ and $\\{B_{1000}, B_{0100}, B_{0010}, B_{0001}\\}$."
   ]
  },
  {
   "cell_type": "code",
   "execution_count": 18,
   "metadata": {},
   "outputs": [],
   "source": [
    "tmp1 = collect(eqn1, [epsilon], evaluate=False)"
   ]
  },
  {
   "cell_type": "code",
   "execution_count": 19,
   "metadata": {},
   "outputs": [],
   "source": [
    "system1 = collect(tmp1[epsilon._sympy_()], U, evaluate=False)"
   ]
  },
  {
   "cell_type": "code",
   "execution_count": 20,
   "metadata": {},
   "outputs": [],
   "source": [
    "tmp2 = collect(eqn2, [epsilon], evaluate=False)"
   ]
  },
  {
   "cell_type": "code",
   "execution_count": 21,
   "metadata": {},
   "outputs": [],
   "source": [
    "system2 = collect(tmp2[epsilon._sympy_()], U, evaluate=False)"
   ]
  },
  {
   "cell_type": "code",
   "execution_count": 22,
   "metadata": {},
   "outputs": [],
   "source": [
    "system = []\n",
    "coeffs = []\n",
    "for k, v in system1.items():\n",
    "    system.append(v)\n",
    "    coeffs.extend(v.free_symbols)"
   ]
  },
  {
   "cell_type": "code",
   "execution_count": 23,
   "metadata": {},
   "outputs": [],
   "source": [
    "for k, v in system2.items():\n",
    "    system.append(v)\n",
    "    coeffs.extend(v.free_symbols)"
   ]
  },
  {
   "cell_type": "code",
   "execution_count": 24,
   "metadata": {},
   "outputs": [],
   "source": [
    "coeffs = list(set(coeffs))"
   ]
  },
  {
   "cell_type": "code",
   "execution_count": 25,
   "metadata": {},
   "outputs": [],
   "source": [
    "# order coefficients\n",
    "def coefficient_sort(coeffs):\n",
    "    r\"\"\"\n",
    "    Given a set of coefficients of the form $A_{ijkl}$, $B_{ijkl}$,\n",
    "    sort those coefficients firstly alphabetically, then in reverse\n",
    "    numerical order for the subscripts.\n",
    "    \n",
    "    Arguments:\n",
    "        coeffs: list of coefficients to be sorted\n",
    "    \"\"\"\n",
    "    shuffle = []\n",
    "    for term in ('A', 'B'):\n",
    "        part_coeffs = [(i, str(coeff)) for i, coeff in enumerate(coeffs) if str(coeff).startswith(term)]\n",
    "        part_sorted = sorted(part_coeffs, key=lambda s: s[1].split('_')[1], reverse=True)\n",
    "        shuffle.extend(t[0] for t in part_sorted)\n",
    "    return [coeffs[i] for i in shuffle]\n",
    "\n",
    "coeffs = coefficient_sort(coeffs)"
   ]
  },
  {
   "cell_type": "code",
   "execution_count": 26,
   "metadata": {},
   "outputs": [],
   "source": [
    "# convert to matrix form\n",
    "M, RHS = linear_eq_to_matrix(system, coeffs)"
   ]
  },
  {
   "cell_type": "code",
   "execution_count": 27,
   "metadata": {},
   "outputs": [
    {
     "ename": "NonInvertibleMatrixError",
     "evalue": "Matrix det == 0; not invertible.",
     "output_type": "error",
     "traceback": [
      "\u001b[0;31m---------------------------------------------------------------------------\u001b[0m",
      "\u001b[0;31mValueError\u001b[0m                                Traceback (most recent call last)",
      "\u001b[0;32m/home/h02/dbentley/miniconda3/envs/wbgt/lib/python3.6/site-packages/sympy/matrices/solvers.py\u001b[0m in \u001b[0;36m_LUsolve\u001b[0;34m(M, rhs, iszerofunc)\u001b[0m\n\u001b[1;32m    340\u001b[0m         A, perm = M.LUdecomposition_Simple(\n\u001b[0;32m--> 341\u001b[0;31m             iszerofunc=_iszero, rankcheck=True)\n\u001b[0m\u001b[1;32m    342\u001b[0m     \u001b[0;32mexcept\u001b[0m \u001b[0mValueError\u001b[0m\u001b[0;34m:\u001b[0m\u001b[0;34m\u001b[0m\u001b[0;34m\u001b[0m\u001b[0m\n",
      "\u001b[0;32m/home/h02/dbentley/miniconda3/envs/wbgt/lib/python3.6/site-packages/sympy/matrices/matrices.py\u001b[0m in \u001b[0;36mLUdecomposition_Simple\u001b[0;34m(self, iszerofunc, simpfunc, rankcheck)\u001b[0m\n\u001b[1;32m   2181\u001b[0m         return _LUdecomposition_Simple(self, iszerofunc=iszerofunc,\n\u001b[0;32m-> 2182\u001b[0;31m                 simpfunc=simpfunc, rankcheck=rankcheck)\n\u001b[0m\u001b[1;32m   2183\u001b[0m \u001b[0;34m\u001b[0m\u001b[0m\n",
      "\u001b[0;32m/home/h02/dbentley/miniconda3/envs/wbgt/lib/python3.6/site-packages/sympy/matrices/decompositions.py\u001b[0m in \u001b[0;36m_LUdecomposition_Simple\u001b[0;34m(M, iszerofunc, simpfunc, rankcheck)\u001b[0m\n\u001b[1;32m    980\u001b[0m             \u001b[0;31m# ValueError.\u001b[0m\u001b[0;34m\u001b[0m\u001b[0;34m\u001b[0m\u001b[0;34m\u001b[0m\u001b[0m\n\u001b[0;32m--> 981\u001b[0;31m             raise ValueError(\"Rank of matrix is strictly less than\"\n\u001b[0m\u001b[1;32m    982\u001b[0m                                 \u001b[0;34m\" number of rows or columns.\"\u001b[0m\u001b[0;34m\u001b[0m\u001b[0;34m\u001b[0m\u001b[0m\n",
      "\u001b[0;31mValueError\u001b[0m: Rank of matrix is strictly less than number of rows or columns. Pass keyword argument rankcheck=False to compute the LU decomposition of this matrix.",
      "\nDuring handling of the above exception, another exception occurred:\n",
      "\u001b[0;31mNonInvertibleMatrixError\u001b[0m                  Traceback (most recent call last)",
      "\u001b[0;32m<ipython-input-27-96f94e1bb147>\u001b[0m in \u001b[0;36m<module>\u001b[0;34m()\u001b[0m\n\u001b[0;32m----> 1\u001b[0;31m \u001b[0mM\u001b[0m\u001b[0;34m.\u001b[0m\u001b[0mLUsolve\u001b[0m\u001b[0;34m(\u001b[0m\u001b[0mRHS\u001b[0m\u001b[0;34m)\u001b[0m\u001b[0;34m\u001b[0m\u001b[0;34m\u001b[0m\u001b[0m\n\u001b[0m",
      "\u001b[0;32m/home/h02/dbentley/miniconda3/envs/wbgt/lib/python3.6/site-packages/sympy/matrices/matrices.py\u001b[0m in \u001b[0;36mLUsolve\u001b[0;34m(self, rhs, iszerofunc)\u001b[0m\n\u001b[1;32m   2204\u001b[0m \u001b[0;34m\u001b[0m\u001b[0m\n\u001b[1;32m   2205\u001b[0m     \u001b[0;32mdef\u001b[0m \u001b[0mLUsolve\u001b[0m\u001b[0;34m(\u001b[0m\u001b[0mself\u001b[0m\u001b[0;34m,\u001b[0m \u001b[0mrhs\u001b[0m\u001b[0;34m,\u001b[0m \u001b[0miszerofunc\u001b[0m\u001b[0;34m=\u001b[0m\u001b[0m_iszero\u001b[0m\u001b[0;34m)\u001b[0m\u001b[0;34m:\u001b[0m\u001b[0;34m\u001b[0m\u001b[0;34m\u001b[0m\u001b[0m\n\u001b[0;32m-> 2206\u001b[0;31m         \u001b[0;32mreturn\u001b[0m \u001b[0m_LUsolve\u001b[0m\u001b[0;34m(\u001b[0m\u001b[0mself\u001b[0m\u001b[0;34m,\u001b[0m \u001b[0mrhs\u001b[0m\u001b[0;34m,\u001b[0m \u001b[0miszerofunc\u001b[0m\u001b[0;34m=\u001b[0m\u001b[0miszerofunc\u001b[0m\u001b[0;34m)\u001b[0m\u001b[0;34m\u001b[0m\u001b[0;34m\u001b[0m\u001b[0m\n\u001b[0m\u001b[1;32m   2207\u001b[0m \u001b[0;34m\u001b[0m\u001b[0m\n\u001b[1;32m   2208\u001b[0m     \u001b[0;32mdef\u001b[0m \u001b[0mQRsolve\u001b[0m\u001b[0;34m(\u001b[0m\u001b[0mself\u001b[0m\u001b[0;34m,\u001b[0m \u001b[0mb\u001b[0m\u001b[0;34m)\u001b[0m\u001b[0;34m:\u001b[0m\u001b[0;34m\u001b[0m\u001b[0;34m\u001b[0m\u001b[0m\n",
      "\u001b[0;32m/home/h02/dbentley/miniconda3/envs/wbgt/lib/python3.6/site-packages/sympy/matrices/solvers.py\u001b[0m in \u001b[0;36m_LUsolve\u001b[0;34m(M, rhs, iszerofunc)\u001b[0m\n\u001b[1;32m    341\u001b[0m             iszerofunc=_iszero, rankcheck=True)\n\u001b[1;32m    342\u001b[0m     \u001b[0;32mexcept\u001b[0m \u001b[0mValueError\u001b[0m\u001b[0;34m:\u001b[0m\u001b[0;34m\u001b[0m\u001b[0;34m\u001b[0m\u001b[0m\n\u001b[0;32m--> 343\u001b[0;31m         \u001b[0;32mraise\u001b[0m \u001b[0mNonInvertibleMatrixError\u001b[0m\u001b[0;34m(\u001b[0m\u001b[0;34m\"Matrix det == 0; not invertible.\"\u001b[0m\u001b[0;34m)\u001b[0m\u001b[0;34m\u001b[0m\u001b[0;34m\u001b[0m\u001b[0m\n\u001b[0m\u001b[1;32m    344\u001b[0m \u001b[0;34m\u001b[0m\u001b[0m\n\u001b[1;32m    345\u001b[0m     \u001b[0mdps\u001b[0m \u001b[0;34m=\u001b[0m \u001b[0m_get_intermediate_simp\u001b[0m\u001b[0;34m(\u001b[0m\u001b[0;34m)\u001b[0m\u001b[0;34m\u001b[0m\u001b[0;34m\u001b[0m\u001b[0m\n",
      "\u001b[0;31mNonInvertibleMatrixError\u001b[0m: Matrix det == 0; not invertible."
     ]
    }
   ],
   "source": [
    "M.LUsolve(RHS)"
   ]
  },
  {
   "cell_type": "markdown",
   "metadata": {},
   "source": [
    "From above we see that the matrix $M$ is rank deficient. In this case this means that some of the equations are linearly dependent. The rank of the matrix is"
   ]
  },
  {
   "cell_type": "code",
   "execution_count": 28,
   "metadata": {},
   "outputs": [
    {
     "data": {
      "text/plain": [
       "6"
      ]
     },
     "execution_count": 28,
     "metadata": {},
     "output_type": "execute_result"
    }
   ],
   "source": [
    "M.rank()"
   ]
  },
  {
   "cell_type": "markdown",
   "metadata": {},
   "source": [
    "Computing the left-nullspace of the matrix $M$ thus yiekds two vectors"
   ]
  },
  {
   "cell_type": "code",
   "execution_count": 29,
   "metadata": {},
   "outputs": [],
   "source": [
    "K = M.nullspace()"
   ]
  },
  {
   "cell_type": "code",
   "execution_count": 30,
   "metadata": {},
   "outputs": [
    {
     "data": {
      "text/latex": [
       "$\\displaystyle \\left[\\begin{matrix}i\\\\1\\\\i\\\\1\\\\0\\\\0\\\\0\\\\0\\end{matrix}\\right]$"
      ],
      "text/plain": [
       "Matrix([\n",
       "[I],\n",
       "[1],\n",
       "[I],\n",
       "[1],\n",
       "[0],\n",
       "[0],\n",
       "[0],\n",
       "[0]])"
      ]
     },
     "metadata": {},
     "output_type": "display_data"
    },
    {
     "data": {
      "text/latex": [
       "$\\displaystyle \\left[\\begin{matrix}-1\\\\2 i\\\\1\\\\0\\\\i\\\\1\\\\i\\\\1\\end{matrix}\\right]$"
      ],
      "text/plain": [
       "Matrix([\n",
       "[ -1],\n",
       "[2*I],\n",
       "[  1],\n",
       "[  0],\n",
       "[  I],\n",
       "[  1],\n",
       "[  I],\n",
       "[  1]])"
      ]
     },
     "metadata": {},
     "output_type": "display_data"
    }
   ],
   "source": [
    "for vec in K:\n",
    "    disp.display(vec)"
   ]
  },
  {
   "cell_type": "code",
   "execution_count": 31,
   "metadata": {},
   "outputs": [
    {
     "data": {
      "text/plain": [
       "(Matrix([\n",
       " [1, 0, 0, -I, 0, 0, 0,    1],\n",
       " [0, 1, 0, -1, 0, 0, 0, -2*I],\n",
       " [0, 0, 1, -I, 0, 0, 0,   -1],\n",
       " [0, 0, 0,  0, 1, 0, 0,   -I],\n",
       " [0, 0, 0,  0, 0, 1, 0,   -1],\n",
       " [0, 0, 0,  0, 0, 0, 1,   -I],\n",
       " [0, 0, 0,  0, 0, 0, 0,    0],\n",
       " [0, 0, 0,  0, 0, 0, 0,    0]]), (0, 1, 2, 4, 5, 6))"
      ]
     },
     "execution_count": 31,
     "metadata": {},
     "output_type": "execute_result"
    }
   ],
   "source": [
    "M.rref()"
   ]
  },
  {
   "cell_type": "code",
   "execution_count": 32,
   "metadata": {},
   "outputs": [
    {
     "data": {
      "text/plain": [
       "{A_1000: I*alpha - beta,\n",
       " A_0100: alpha + 2*I*beta,\n",
       " A_0010: I*alpha + beta,\n",
       " A_0001: alpha,\n",
       " B_1000: I*beta,\n",
       " B_0100: beta,\n",
       " B_0010: I*beta,\n",
       " B_0001: beta}"
      ]
     },
     "execution_count": 32,
     "metadata": {},
     "output_type": "execute_result"
    }
   ],
   "source": [
    "alpha, beta = symbols('alpha beta')\n",
    "sol_values = alpha * K[0] + beta * K[1]\n",
    "sol = {}\n",
    "for coeff, val in zip(coeffs, sol_values):\n",
    "    sol[coeff] = val\n",
    "sol"
   ]
  },
  {
   "cell_type": "markdown",
   "metadata": {},
   "source": [
    "This gives, as expected, a two-parameter family of solutions (owing to the rank deficiency of $M$). The form is not quite the same as given in the paper, but is equivalent under a change of variables $\\alpha = \\alpha(\\xi_{1}, \\xi_{2})$ and $\\beta = \\beta(\\xi_{1}, \\xi_{2})$."
   ]
  },
  {
   "cell_type": "code",
   "execution_count": 33,
   "metadata": {},
   "outputs": [],
   "source": [
    "xi1, xi2 = symbols(r'\\xi_{1}, \\xi_{2}')\n",
    "bk_answer = [(2 * xi1 + xi2) / 4,  # A_1000\n",
    "             -I * (3 * xi1 + xi2) / 4,  # A_0100\n",
    "             xi2 / 4,  # A_0010\n",
    "             -I * (xi1 + xi2) / 4,  # A_0001\n",
    "             -I * xi1 / 4,  # B_1000\n",
    "             -xi1 / 4,  # B_0100\n",
    "             -I * xi1 / 4,  # B_0010\n",
    "             -xi1 / 4]  # B_0001\n",
    "transform_system = []\n",
    "for k, ans in zip(coeffs, bk_answer):\n",
    "    transform_system.append(sol[k] - ans)"
   ]
  },
  {
   "cell_type": "code",
   "execution_count": 34,
   "metadata": {},
   "outputs": [],
   "source": [
    "transform = solve(transform_system, [alpha, beta], dict=True)[0]"
   ]
  },
  {
   "cell_type": "code",
   "execution_count": 35,
   "metadata": {},
   "outputs": [],
   "source": [
    "for k, v in sol.items():\n",
    "    sol[k] = simplify(v.subs(transform))"
   ]
  },
  {
   "cell_type": "code",
   "execution_count": 36,
   "metadata": {},
   "outputs": [
    {
     "data": {
      "text/latex": [
       "$\\displaystyle A_{1000}$"
      ],
      "text/plain": [
       "A_1000"
      ]
     },
     "metadata": {},
     "output_type": "display_data"
    },
    {
     "data": {
      "text/latex": [
       "$\\displaystyle \\frac{\\xi_{1}}{2} + \\frac{\\xi_{2}}{4}$"
      ],
      "text/plain": [
       "\\xi_{1}/2 + \\xi_{2}/4"
      ]
     },
     "metadata": {},
     "output_type": "display_data"
    },
    {
     "data": {
      "text/latex": [
       "$\\displaystyle A_{0100}$"
      ],
      "text/plain": [
       "A_0100"
      ]
     },
     "metadata": {},
     "output_type": "display_data"
    },
    {
     "data": {
      "text/latex": [
       "$\\displaystyle - \\frac{i \\left(3 \\xi_{1} + \\xi_{2}\\right)}{4}$"
      ],
      "text/plain": [
       "-I*(3*\\xi_{1} + \\xi_{2})/4"
      ]
     },
     "metadata": {},
     "output_type": "display_data"
    },
    {
     "data": {
      "text/latex": [
       "$\\displaystyle A_{0010}$"
      ],
      "text/plain": [
       "A_0010"
      ]
     },
     "metadata": {},
     "output_type": "display_data"
    },
    {
     "data": {
      "text/latex": [
       "$\\displaystyle \\frac{\\xi_{2}}{4}$"
      ],
      "text/plain": [
       "\\xi_{2}/4"
      ]
     },
     "metadata": {},
     "output_type": "display_data"
    },
    {
     "data": {
      "text/latex": [
       "$\\displaystyle A_{0001}$"
      ],
      "text/plain": [
       "A_0001"
      ]
     },
     "metadata": {},
     "output_type": "display_data"
    },
    {
     "data": {
      "text/latex": [
       "$\\displaystyle - \\frac{i \\left(\\xi_{1} + \\xi_{2}\\right)}{4}$"
      ],
      "text/plain": [
       "-I*(\\xi_{1} + \\xi_{2})/4"
      ]
     },
     "metadata": {},
     "output_type": "display_data"
    },
    {
     "data": {
      "text/latex": [
       "$\\displaystyle B_{1000}$"
      ],
      "text/plain": [
       "B_1000"
      ]
     },
     "metadata": {},
     "output_type": "display_data"
    },
    {
     "data": {
      "text/latex": [
       "$\\displaystyle - \\frac{i \\xi_{1}}{4}$"
      ],
      "text/plain": [
       "-I*\\xi_{1}/4"
      ]
     },
     "metadata": {},
     "output_type": "display_data"
    },
    {
     "data": {
      "text/latex": [
       "$\\displaystyle B_{0100}$"
      ],
      "text/plain": [
       "B_0100"
      ]
     },
     "metadata": {},
     "output_type": "display_data"
    },
    {
     "data": {
      "text/latex": [
       "$\\displaystyle - \\frac{\\xi_{1}}{4}$"
      ],
      "text/plain": [
       "-\\xi_{1}/4"
      ]
     },
     "metadata": {},
     "output_type": "display_data"
    },
    {
     "data": {
      "text/latex": [
       "$\\displaystyle B_{0010}$"
      ],
      "text/plain": [
       "B_0010"
      ]
     },
     "metadata": {},
     "output_type": "display_data"
    },
    {
     "data": {
      "text/latex": [
       "$\\displaystyle - \\frac{i \\xi_{1}}{4}$"
      ],
      "text/plain": [
       "-I*\\xi_{1}/4"
      ]
     },
     "metadata": {},
     "output_type": "display_data"
    },
    {
     "data": {
      "text/latex": [
       "$\\displaystyle B_{0001}$"
      ],
      "text/plain": [
       "B_0001"
      ]
     },
     "metadata": {},
     "output_type": "display_data"
    },
    {
     "data": {
      "text/latex": [
       "$\\displaystyle - \\frac{\\xi_{1}}{4}$"
      ],
      "text/plain": [
       "-\\xi_{1}/4"
      ]
     },
     "metadata": {},
     "output_type": "display_data"
    }
   ],
   "source": [
    "for k, v in sol.items():\n",
    "    disp.display(k, v)"
   ]
  },
  {
   "cell_type": "markdown",
   "metadata": {},
   "source": [
    "In this case we can also use the `solve` method from sympy to recover the coefficients"
   ]
  },
  {
   "cell_type": "markdown",
   "metadata": {},
   "source": [
    "## n = 2\n",
    "We now proceed to second order, collecting together terms quadratic in $\\epsilon$. At this order we recover the coefficients $\\{A_{2000}, A_{0200}, A_{0020}, A_{0002}, A_{1100}, A_{1010}, A_{1001}, A_{0110}, A_{0101}, A_{0011}\\}$ and $\\{B_{2000}, B_{0200}, B_{0020}, B_{0002}, B_{1100}, B_{1010}, B_{1001}, B_{0110}, B_{0101}, B_{0011}\\}$."
   ]
  },
  {
   "cell_type": "code",
   "execution_count": 37,
   "metadata": {},
   "outputs": [],
   "source": [
    "system1 = expand(tmp1[epsilon._sympy_()**2].subs(sol))"
   ]
  },
  {
   "cell_type": "code",
   "execution_count": 38,
   "metadata": {},
   "outputs": [],
   "source": [
    "system2 = expand(tmp2[epsilon._sympy_()**2].subs(sol))"
   ]
  },
  {
   "cell_type": "code",
   "execution_count": 39,
   "metadata": {},
   "outputs": [],
   "source": [
    "system = []\n",
    "coeffs = []"
   ]
  },
  {
   "cell_type": "code",
   "execution_count": 40,
   "metadata": {},
   "outputs": [],
   "source": [
    "for _, term in collect(system1, [np.product(el) for el in itertools.product(U, U)], evaluate=False).items():\n",
    "    system.append(term)\n",
    "    coeffs.extend(term.free_symbols)"
   ]
  },
  {
   "cell_type": "code",
   "execution_count": 41,
   "metadata": {},
   "outputs": [],
   "source": [
    "for _, term in collect(system2, [np.product(el) for el in itertools.product(U, U)], evaluate=False).items():\n",
    "    system.append(term)\n",
    "    coeffs.extend(term.free_symbols)"
   ]
  },
  {
   "cell_type": "code",
   "execution_count": 42,
   "metadata": {},
   "outputs": [],
   "source": [
    "coeffs = list(set(coeffs).intersection([s._sympy_() for s in unknowns]))\n",
    "coeffs = coefficient_sort(coeffs)"
   ]
  },
  {
   "cell_type": "code",
   "execution_count": 43,
   "metadata": {},
   "outputs": [],
   "source": [
    "M, RHS = linear_eq_to_matrix(system, coeffs)"
   ]
  },
  {
   "cell_type": "code",
   "execution_count": 44,
   "metadata": {},
   "outputs": [],
   "source": [
    "_ = M.LUsolve(RHS)"
   ]
  },
  {
   "cell_type": "code",
   "execution_count": 45,
   "metadata": {},
   "outputs": [],
   "source": [
    "sol2 = {coeff: simplify(val) for coeff, val in zip(coeffs, _)}"
   ]
  },
  {
   "cell_type": "code",
   "execution_count": 46,
   "metadata": {},
   "outputs": [
    {
     "data": {
      "text/latex": [
       "$\\displaystyle A_{2000}$"
      ],
      "text/plain": [
       "A_2000"
      ]
     },
     "metadata": {},
     "output_type": "display_data"
    },
    {
     "data": {
      "text/latex": [
       "$\\displaystyle \\frac{n_{2} \\left(- 18 \\xi_{1} + 7 \\xi_{2}\\right)}{108}$"
      ],
      "text/plain": [
       "n2*(-18*\\xi_{1} + 7*\\xi_{2})/108"
      ]
     },
     "metadata": {},
     "output_type": "display_data"
    },
    {
     "data": {
      "text/latex": [
       "$\\displaystyle A_{1100}$"
      ],
      "text/plain": [
       "A_1100"
      ]
     },
     "metadata": {},
     "output_type": "display_data"
    },
    {
     "data": {
      "text/latex": [
       "$\\displaystyle \\frac{i n_{2} \\left(19 \\xi_{1} - 23 \\xi_{2}\\right)}{54}$"
      ],
      "text/plain": [
       "I*n2*(19*\\xi_{1} - 23*\\xi_{2})/54"
      ]
     },
     "metadata": {},
     "output_type": "display_data"
    },
    {
     "data": {
      "text/latex": [
       "$\\displaystyle A_{1010}$"
      ],
      "text/plain": [
       "A_1010"
      ]
     },
     "metadata": {},
     "output_type": "display_data"
    },
    {
     "data": {
      "text/latex": [
       "$\\displaystyle \\frac{n_{2} \\left(16 \\xi_{1} + 13 \\xi_{2}\\right)}{54}$"
      ],
      "text/plain": [
       "n2*(16*\\xi_{1} + 13*\\xi_{2})/54"
      ]
     },
     "metadata": {},
     "output_type": "display_data"
    },
    {
     "data": {
      "text/latex": [
       "$\\displaystyle A_{1001}$"
      ],
      "text/plain": [
       "A_1001"
      ]
     },
     "metadata": {},
     "output_type": "display_data"
    },
    {
     "data": {
      "text/latex": [
       "$\\displaystyle - \\frac{i n_{2} \\left(\\xi_{1} + 17 \\xi_{2}\\right)}{54}$"
      ],
      "text/plain": [
       "-I*n2*(\\xi_{1} + 17*\\xi_{2})/54"
      ]
     },
     "metadata": {},
     "output_type": "display_data"
    },
    {
     "data": {
      "text/latex": [
       "$\\displaystyle A_{0200}$"
      ],
      "text/plain": [
       "A_0200"
      ]
     },
     "metadata": {},
     "output_type": "display_data"
    },
    {
     "data": {
      "text/latex": [
       "$\\displaystyle - \\frac{n_{2} \\left(4 \\xi_{1} + 23 \\xi_{2}\\right)}{54}$"
      ],
      "text/plain": [
       "-n2*(4*\\xi_{1} + 23*\\xi_{2})/54"
      ]
     },
     "metadata": {},
     "output_type": "display_data"
    },
    {
     "data": {
      "text/latex": [
       "$\\displaystyle A_{0110}$"
      ],
      "text/plain": [
       "A_0110"
      ]
     },
     "metadata": {},
     "output_type": "display_data"
    },
    {
     "data": {
      "text/latex": [
       "$\\displaystyle \\frac{i n_{2} \\left(41 \\xi_{1} + \\xi_{2}\\right)}{54}$"
      ],
      "text/plain": [
       "I*n2*(41*\\xi_{1} + \\xi_{2})/54"
      ]
     },
     "metadata": {},
     "output_type": "display_data"
    },
    {
     "data": {
      "text/latex": [
       "$\\displaystyle A_{0101}$"
      ],
      "text/plain": [
       "A_0101"
      ]
     },
     "metadata": {},
     "output_type": "display_data"
    },
    {
     "data": {
      "text/latex": [
       "$\\displaystyle \\frac{4 n_{2} \\left(3 \\xi_{1} - 2 \\xi_{2}\\right)}{27}$"
      ],
      "text/plain": [
       "4*n2*(3*\\xi_{1} - 2*\\xi_{2})/27"
      ]
     },
     "metadata": {},
     "output_type": "display_data"
    },
    {
     "data": {
      "text/latex": [
       "$\\displaystyle A_{0020}$"
      ],
      "text/plain": [
       "A_0020"
      ]
     },
     "metadata": {},
     "output_type": "display_data"
    },
    {
     "data": {
      "text/latex": [
       "$\\displaystyle \\frac{5 n_{2} \\left(2 \\xi_{1} + \\xi_{2}\\right)}{54}$"
      ],
      "text/plain": [
       "5*n2*(2*\\xi_{1} + \\xi_{2})/54"
      ]
     },
     "metadata": {},
     "output_type": "display_data"
    },
    {
     "data": {
      "text/latex": [
       "$\\displaystyle A_{0011}$"
      ],
      "text/plain": [
       "A_0011"
      ]
     },
     "metadata": {},
     "output_type": "display_data"
    },
    {
     "data": {
      "text/latex": [
       "$\\displaystyle \\frac{i n_{2} \\left(9 \\xi_{1} - \\xi_{2}\\right)}{27}$"
      ],
      "text/plain": [
       "I*n2*(9*\\xi_{1} - \\xi_{2})/27"
      ]
     },
     "metadata": {},
     "output_type": "display_data"
    },
    {
     "data": {
      "text/latex": [
       "$\\displaystyle A_{0002}$"
      ],
      "text/plain": [
       "A_0002"
      ]
     },
     "metadata": {},
     "output_type": "display_data"
    },
    {
     "data": {
      "text/latex": [
       "$\\displaystyle \\frac{n_{2} \\left(8 \\xi_{1} - \\xi_{2}\\right)}{27}$"
      ],
      "text/plain": [
       "n2*(8*\\xi_{1} - \\xi_{2})/27"
      ]
     },
     "metadata": {},
     "output_type": "display_data"
    },
    {
     "data": {
      "text/latex": [
       "$\\displaystyle B_{2000}$"
      ],
      "text/plain": [
       "B_2000"
      ]
     },
     "metadata": {},
     "output_type": "display_data"
    },
    {
     "data": {
      "text/latex": [
       "$\\displaystyle - \\frac{7 i \\xi_{1} n_{2}}{108}$"
      ],
      "text/plain": [
       "-7*I*\\xi_{1}*n2/108"
      ]
     },
     "metadata": {},
     "output_type": "display_data"
    },
    {
     "data": {
      "text/latex": [
       "$\\displaystyle B_{1100}$"
      ],
      "text/plain": [
       "B_1100"
      ]
     },
     "metadata": {},
     "output_type": "display_data"
    },
    {
     "data": {
      "text/latex": [
       "$\\displaystyle - \\frac{23 \\xi_{1} n_{2}}{54}$"
      ],
      "text/plain": [
       "-23*\\xi_{1}*n2/54"
      ]
     },
     "metadata": {},
     "output_type": "display_data"
    },
    {
     "data": {
      "text/latex": [
       "$\\displaystyle B_{1010}$"
      ],
      "text/plain": [
       "B_1010"
      ]
     },
     "metadata": {},
     "output_type": "display_data"
    },
    {
     "data": {
      "text/latex": [
       "$\\displaystyle - \\frac{13 i \\xi_{1} n_{2}}{54}$"
      ],
      "text/plain": [
       "-13*I*\\xi_{1}*n2/54"
      ]
     },
     "metadata": {},
     "output_type": "display_data"
    },
    {
     "data": {
      "text/latex": [
       "$\\displaystyle B_{1001}$"
      ],
      "text/plain": [
       "B_1001"
      ]
     },
     "metadata": {},
     "output_type": "display_data"
    },
    {
     "data": {
      "text/latex": [
       "$\\displaystyle - \\frac{17 \\xi_{1} n_{2}}{54}$"
      ],
      "text/plain": [
       "-17*\\xi_{1}*n2/54"
      ]
     },
     "metadata": {},
     "output_type": "display_data"
    },
    {
     "data": {
      "text/latex": [
       "$\\displaystyle B_{0200}$"
      ],
      "text/plain": [
       "B_0200"
      ]
     },
     "metadata": {},
     "output_type": "display_data"
    },
    {
     "data": {
      "text/latex": [
       "$\\displaystyle \\frac{23 i \\xi_{1} n_{2}}{54}$"
      ],
      "text/plain": [
       "23*I*\\xi_{1}*n2/54"
      ]
     },
     "metadata": {},
     "output_type": "display_data"
    },
    {
     "data": {
      "text/latex": [
       "$\\displaystyle B_{0110}$"
      ],
      "text/plain": [
       "B_0110"
      ]
     },
     "metadata": {},
     "output_type": "display_data"
    },
    {
     "data": {
      "text/latex": [
       "$\\displaystyle \\frac{\\xi_{1} n_{2}}{54}$"
      ],
      "text/plain": [
       "\\xi_{1}*n2/54"
      ]
     },
     "metadata": {},
     "output_type": "display_data"
    },
    {
     "data": {
      "text/latex": [
       "$\\displaystyle B_{0101}$"
      ],
      "text/plain": [
       "B_0101"
      ]
     },
     "metadata": {},
     "output_type": "display_data"
    },
    {
     "data": {
      "text/latex": [
       "$\\displaystyle \\frac{8 i \\xi_{1} n_{2}}{27}$"
      ],
      "text/plain": [
       "8*I*\\xi_{1}*n2/27"
      ]
     },
     "metadata": {},
     "output_type": "display_data"
    },
    {
     "data": {
      "text/latex": [
       "$\\displaystyle B_{0020}$"
      ],
      "text/plain": [
       "B_0020"
      ]
     },
     "metadata": {},
     "output_type": "display_data"
    },
    {
     "data": {
      "text/latex": [
       "$\\displaystyle - \\frac{5 i \\xi_{1} n_{2}}{54}$"
      ],
      "text/plain": [
       "-5*I*\\xi_{1}*n2/54"
      ]
     },
     "metadata": {},
     "output_type": "display_data"
    },
    {
     "data": {
      "text/latex": [
       "$\\displaystyle B_{0011}$"
      ],
      "text/plain": [
       "B_0011"
      ]
     },
     "metadata": {},
     "output_type": "display_data"
    },
    {
     "data": {
      "text/latex": [
       "$\\displaystyle - \\frac{\\xi_{1} n_{2}}{27}$"
      ],
      "text/plain": [
       "-\\xi_{1}*n2/27"
      ]
     },
     "metadata": {},
     "output_type": "display_data"
    },
    {
     "data": {
      "text/latex": [
       "$\\displaystyle B_{0002}$"
      ],
      "text/plain": [
       "B_0002"
      ]
     },
     "metadata": {},
     "output_type": "display_data"
    },
    {
     "data": {
      "text/latex": [
       "$\\displaystyle \\frac{i \\xi_{1} n_{2}}{27}$"
      ],
      "text/plain": [
       "I*\\xi_{1}*n2/27"
      ]
     },
     "metadata": {},
     "output_type": "display_data"
    }
   ],
   "source": [
    "for coeff, val in sol2.items():\n",
    "    disp.display(coeff, val)"
   ]
  },
  {
   "cell_type": "markdown",
   "metadata": {},
   "source": [
    "# n = 3\n",
    "Moving on to order 3, we now recover the set of coefficients $\\{A_{ijkl}: i + j + k + l = 3\\}$ and $\\{B_{ijkl}: i + j + k + l = 3\\}$. The normal form coefficients $\\{p_{2}, p_{3}, q_{2}, q_{3}\\}$ are also recovered at this order."
   ]
  },
  {
   "cell_type": "code",
   "execution_count": 47,
   "metadata": {},
   "outputs": [],
   "source": [
    "system1 = expand(tmp1[epsilon._sympy_()**3].subs(sol).subs(sol2))"
   ]
  },
  {
   "cell_type": "code",
   "execution_count": 48,
   "metadata": {},
   "outputs": [],
   "source": [
    "system2 = expand(tmp2[epsilon._sympy_()**3].subs(sol).subs(sol2))"
   ]
  },
  {
   "cell_type": "code",
   "execution_count": 49,
   "metadata": {},
   "outputs": [],
   "source": [
    "system = []\n",
    "coeffs = []"
   ]
  },
  {
   "cell_type": "code",
   "execution_count": 50,
   "metadata": {},
   "outputs": [],
   "source": [
    "for _, term in collect(system1, [np.product(el) for el in itertools.product(U, U, U)], evaluate=False).items():\n",
    "    system.append(term)\n",
    "    coeffs.extend(term.free_symbols)"
   ]
  },
  {
   "cell_type": "code",
   "execution_count": 51,
   "metadata": {},
   "outputs": [],
   "source": [
    "for _, term in collect(system2, [np.product(el) for el in itertools.product(U, U, U)], evaluate=False).items():\n",
    "    system.append(term)\n",
    "    coeffs.extend(term.free_symbols)"
   ]
  },
  {
   "cell_type": "code",
   "execution_count": 52,
   "metadata": {},
   "outputs": [],
   "source": [
    "coeffs = list(set(coeffs).intersection([s._sympy_() for s in unknowns]))\n",
    "coeffs = coefficient_sort(coeffs)"
   ]
  },
  {
   "cell_type": "code",
   "execution_count": 53,
   "metadata": {},
   "outputs": [],
   "source": [
    "M, RHS = linear_eq_to_matrix(system, coeffs)"
   ]
  },
  {
   "cell_type": "markdown",
   "metadata": {},
   "source": [
    "Looking at the rank of the matrix $M$ we see that we should expect a four paramater family of solutions."
   ]
  },
  {
   "cell_type": "code",
   "execution_count": 54,
   "metadata": {},
   "outputs": [
    {
     "data": {
      "text/plain": [
       "36"
      ]
     },
     "execution_count": 54,
     "metadata": {},
     "output_type": "execute_result"
    }
   ],
   "source": [
    "M.rank()"
   ]
  },
  {
   "cell_type": "code",
   "execution_count": 64,
   "metadata": {},
   "outputs": [],
   "source": [
    "K = M.T.nullspace()"
   ]
  },
  {
   "cell_type": "code",
   "execution_count": 56,
   "metadata": {},
   "outputs": [
    {
     "data": {
      "text/plain": [
       "{A_3000: -I*alpha + 2*I*beta - 2*delta + gamma,\n",
       " A_2100: -alpha + 2*beta + 4*I*delta - 2*I*gamma,\n",
       " A_2010: -I*alpha + 4*I*beta - gamma,\n",
       " A_2001: -alpha + 2*beta,\n",
       " A_1200: -2*I*alpha + 3*I*beta - 3*delta + 2*gamma,\n",
       " A_1110: 2*beta + 4*I*delta,\n",
       " A_1101: -2*I*alpha + 4*I*beta - 4*delta + 2*gamma,\n",
       " A_1020: I*alpha + 2*I*beta + 2*delta - gamma,\n",
       " A_1011: 2*beta,\n",
       " A_1002: I*beta - delta,\n",
       " A_0300: -2*alpha + 3*beta + 6*I*delta - 4*I*gamma,\n",
       " A_0210: -2*I*alpha + 3*I*beta + 3*delta - 2*gamma,\n",
       " A_0201: -4*alpha + 7*beta + 8*I*delta - 4*I*gamma,\n",
       " A_0120: alpha + 2*I*gamma,\n",
       " A_0111: -2*I*alpha + 4*I*beta + 4*delta - 2*gamma,\n",
       " A_0102: -2*alpha + 5*beta + 2*I*delta,\n",
       " A_0030: I*alpha + gamma,\n",
       " A_0021: alpha,\n",
       " A_0012: I*beta + delta,\n",
       " A_0003: beta,\n",
       " B_3000: 2*I*delta - I*gamma,\n",
       " B_2100: 2*delta - gamma,\n",
       " B_2010: 4*I*delta - I*gamma,\n",
       " B_2001: 2*delta - gamma,\n",
       " B_1200: 3*I*delta - 2*I*gamma,\n",
       " B_1110: 2*delta,\n",
       " B_1101: 4*I*delta - 2*I*gamma,\n",
       " B_1020: 2*I*delta + I*gamma,\n",
       " B_1011: 2*delta,\n",
       " B_1002: I*delta,\n",
       " B_0300: 3*delta - 2*gamma,\n",
       " B_0210: 3*I*delta - 2*I*gamma,\n",
       " B_0201: 7*delta - 4*gamma,\n",
       " B_0120: gamma,\n",
       " B_0111: 4*I*delta - 2*I*gamma,\n",
       " B_0102: 5*delta - 2*gamma,\n",
       " B_0030: I*gamma,\n",
       " B_0021: gamma,\n",
       " B_0012: I*delta,\n",
       " B_0003: delta}"
      ]
     },
     "execution_count": 56,
     "metadata": {},
     "output_type": "execute_result"
    }
   ],
   "source": [
    "alpha, beta, gamma, delta = symbols('alpha beta gamma delta')\n",
    "sol_values = alpha * K[0] + beta * K[1] + gamma * K[2] + delta * K[3]\n",
    "sol3 = {}\n",
    "for coeff, val in zip(coeffs, sol_values):\n",
    "    sol3[coeff] = val\n",
    "sol3"
   ]
  },
  {
   "cell_type": "markdown",
   "metadata": {},
   "source": [
    "We are more interested in the solution of the coefficients of the normal form, which are recovered by multiplying the kernel by the non-zero RHS of the system at 3rd order."
   ]
  },
  {
   "cell_type": "code",
   "execution_count": 65,
   "metadata": {},
   "outputs": [],
   "source": [
    "M_kern = Matrix([list(k) for k in K])"
   ]
  },
  {
   "cell_type": "code",
   "execution_count": 66,
   "metadata": {},
   "outputs": [],
   "source": [
    "param_system = simplify(M_kern * RHS)"
   ]
  },
  {
   "cell_type": "code",
   "execution_count": 67,
   "metadata": {},
   "outputs": [],
   "source": [
    "free_coefficients = [p2._sympy_(), p3._sympy_(), q2._sympy_(), q3._sympy_()]"
   ]
  },
  {
   "cell_type": "code",
   "execution_count": 68,
   "metadata": {},
   "outputs": [],
   "source": [
    "Mfree, RHSfree = linear_eq_to_matrix(param_system, free_coefficients)"
   ]
  },
  {
   "cell_type": "code",
   "execution_count": 69,
   "metadata": {},
   "outputs": [],
   "source": [
    "sol3_free = Mfree.LUsolve(RHSfree)"
   ]
  },
  {
   "cell_type": "code",
   "execution_count": 70,
   "metadata": {},
   "outputs": [
    {
     "data": {
      "text/latex": [
       "$\\displaystyle p_{2}$"
      ],
      "text/plain": [
       "p2"
      ]
     },
     "metadata": {},
     "output_type": "display_data"
    },
    {
     "data": {
      "text/latex": [
       "$\\displaystyle - \\frac{374 \\xi_{1} n_{2}^{2} + 243 \\xi_{1} n_{3} + 228 \\xi_{2} n_{2}^{2} + 162 \\xi_{2} n_{3}}{432 \\xi_{1}^{3}}$"
      ],
      "text/plain": [
       "-(374*\\xi_{1}*n2**2 + 243*\\xi_{1}*n3 + 228*\\xi_{2}*n2**2 + 162*\\xi_{2}*n3)/(432*\\xi_{1}**3)"
      ]
     },
     "metadata": {},
     "output_type": "display_data"
    },
    {
     "data": {
      "text/latex": [
       "$\\displaystyle p_{3}$"
      ],
      "text/plain": [
       "p3"
      ]
     },
     "metadata": {},
     "output_type": "display_data"
    },
    {
     "data": {
      "text/latex": [
       "$\\displaystyle - \\frac{72 \\xi_{1} n_{2}^{2} + 130 \\xi_{2} n_{2}^{2} + 81 \\xi_{2} n_{3}}{81 \\xi_{1}^{3}}$"
      ],
      "text/plain": [
       "-(72*\\xi_{1}*n2**2 + 130*\\xi_{2}*n2**2 + 81*\\xi_{2}*n3)/(81*\\xi_{1}**3)"
      ]
     },
     "metadata": {},
     "output_type": "display_data"
    },
    {
     "data": {
      "text/latex": [
       "$\\displaystyle q_{2}$"
      ],
      "text/plain": [
       "q2"
      ]
     },
     "metadata": {},
     "output_type": "display_data"
    },
    {
     "data": {
      "text/latex": [
       "$\\displaystyle - \\frac{38 n_{2}^{2} + 27 n_{3}}{36 \\xi_{1}^{2}}$"
      ],
      "text/plain": [
       "-(38*n2**2 + 27*n3)/(36*\\xi_{1}**2)"
      ]
     },
     "metadata": {},
     "output_type": "display_data"
    },
    {
     "data": {
      "text/latex": [
       "$\\displaystyle q_{3}$"
      ],
      "text/plain": [
       "q3"
      ]
     },
     "metadata": {},
     "output_type": "display_data"
    },
    {
     "data": {
      "text/latex": [
       "$\\displaystyle - \\frac{82 \\xi_{1} n_{2}^{2} + 81 \\xi_{1} n_{3} + 684 \\xi_{2} n_{2}^{2} + 486 \\xi_{2} n_{3}}{216 \\xi_{1}^{3}}$"
      ],
      "text/plain": [
       "-(82*\\xi_{1}*n2**2 + 81*\\xi_{1}*n3 + 684*\\xi_{2}*n2**2 + 486*\\xi_{2}*n3)/(216*\\xi_{1}**3)"
      ]
     },
     "metadata": {},
     "output_type": "display_data"
    }
   ],
   "source": [
    "for coeff, val in zip(free_coefficients, sol3_free):\n",
    "    disp.display(coeff, simplify(val))"
   ]
  },
  {
   "cell_type": "code",
   "execution_count": 72,
   "metadata": {},
   "outputs": [
    {
     "data": {
      "text/latex": [
       "$\\displaystyle p_{2}$"
      ],
      "text/plain": [
       "p2"
      ]
     },
     "metadata": {},
     "output_type": "display_data"
    },
    {
     "data": {
      "text/latex": [
       "$\\displaystyle - \\frac{187 n_{2}^{2}}{216} - \\frac{9 n_{3}}{16}$"
      ],
      "text/plain": [
       "-187*n2**2/216 - 9*n3/16"
      ]
     },
     "metadata": {},
     "output_type": "display_data"
    },
    {
     "data": {
      "text/latex": [
       "$\\displaystyle p_{3}$"
      ],
      "text/plain": [
       "p3"
      ]
     },
     "metadata": {},
     "output_type": "display_data"
    },
    {
     "data": {
      "text/latex": [
       "$\\displaystyle - \\frac{8 n_{2}^{2}}{9}$"
      ],
      "text/plain": [
       "-8*n2**2/9"
      ]
     },
     "metadata": {},
     "output_type": "display_data"
    },
    {
     "data": {
      "text/latex": [
       "$\\displaystyle q_{2}$"
      ],
      "text/plain": [
       "q2"
      ]
     },
     "metadata": {},
     "output_type": "display_data"
    },
    {
     "data": {
      "text/latex": [
       "$\\displaystyle - \\frac{19 n_{2}^{2}}{18} - \\frac{3 n_{3}}{4}$"
      ],
      "text/plain": [
       "-19*n2**2/18 - 3*n3/4"
      ]
     },
     "metadata": {},
     "output_type": "display_data"
    },
    {
     "data": {
      "text/latex": [
       "$\\displaystyle q_{3}$"
      ],
      "text/plain": [
       "q3"
      ]
     },
     "metadata": {},
     "output_type": "display_data"
    },
    {
     "data": {
      "text/latex": [
       "$\\displaystyle - \\frac{41 n_{2}^{2}}{108} - \\frac{3 n_{3}}{8}$"
      ],
      "text/plain": [
       "-41*n2**2/108 - 3*n3/8"
      ]
     },
     "metadata": {},
     "output_type": "display_data"
    }
   ],
   "source": [
    "for coeff, val in zip(free_coefficients, sol3_free):\n",
    "    disp.display(coeff, simplify(val).subs({xi1: 1, xi2: 0}))"
   ]
  }
 ],
 "metadata": {
  "kernelspec": {
   "display_name": "Python 3",
   "language": "python",
   "name": "python3"
  },
  "language_info": {
   "codemirror_mode": {
    "name": "ipython",
    "version": 3
   },
   "file_extension": ".py",
   "mimetype": "text/x-python",
   "name": "python",
   "nbconvert_exporter": "python",
   "pygments_lexer": "ipython3",
   "version": "3.6.10"
  }
 },
 "nbformat": 4,
 "nbformat_minor": 4
}
